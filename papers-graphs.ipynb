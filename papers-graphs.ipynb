{
 "cells": [
  {
   "cell_type": "markdown",
   "id": "712df365",
   "metadata": {
    "papermill": {
     "duration": 0.015736,
     "end_time": "2025-07-29T12:15:31.024122",
     "exception": false,
     "start_time": "2025-07-29T12:15:31.008386",
     "status": "completed"
    },
    "tags": []
   },
   "source": [
    "# INTRODUCTION"
   ]
  },
  {
   "cell_type": "markdown",
   "id": "f67990ff",
   "metadata": {
    "papermill": {
     "duration": 0.015178,
     "end_time": "2025-07-29T12:15:31.056033",
     "exception": false,
     "start_time": "2025-07-29T12:15:31.040855",
     "status": "completed"
    },
    "tags": []
   },
   "source": [
    "Competition: https://codalab.lisn.upsaclay.fr/competitions/16684#learn_the_details-overview\n",
    "\n",
    "The rapid growth of digital repositories and academic databases has led to an overwhelming abundance of scholarly articles. In the context of academic research, the task of categorizing these articles into genres or fields has become increasingly challenging. Assigning genres to academic papers, such as determining the specific area of study or field they belong to, is a crucial step for effective organization, searchability, and recommendation systems.\n",
    "\n",
    "In this work, we aim to address the challenge of automatically assigning genres to academic papers by leveraging graph-based methods and label propagation techniques. Our approach capitalizes on the interconnected nature of academic content, where papers, authors, and words are linked in a complex web of relationships. We focus on three primary elements in our dataset: the title of the paper, the abstract, and the authorship information.\n",
    "\n",
    "The structure of our dataset consists of academic papers, each associated with metadata including the title, abstract, and the authors involved. We recognize the interdisciplinary nature of many papers, making it a non-trivial task to categorize them accurately. To enhance our model's performance, we propose a comprehensive method that considers both the content of the papers and the relationships between authors and papers.\n",
    "\n",
    "Our methodology involves constructing a graph-based representation of the academic network, where nodes represent papers, authors, and words, and edges signify relationships such as authorship and word occurrences. By incorporating graph-based algorithms, we can capture the inherent relationships within the academic domain. Additionally, we employ label propagation techniques to iteratively assign genres to papers based on their connections within the academic network.\n",
    "\n",
    "To illustrate our approach, we present two distinct scenarios. First, we explore the assignment of genres to papers that lack explicit genre labels. Second, we delve into the propagation of genre information to papers with known genres but possibly incomplete or inaccurate labels.\n",
    "\n",
    "Our work is motivated by the ambition to enhance the organization and discoverability of academic papers, facilitating more efficient literature reviews, targeted searches, and personalized recommendations. By proposing a model that leverages the interconnected nature of academic content, we contribute to the ongoing efforts in automating genre assignment and improving the accessibility of scholarly knowledge."
   ]
  },
  {
   "cell_type": "code",
   "execution_count": 1,
   "id": "7334edcd",
   "metadata": {
    "execution": {
     "iopub.execute_input": "2025-07-29T12:15:31.089088Z",
     "iopub.status.busy": "2025-07-29T12:15:31.088647Z",
     "iopub.status.idle": "2025-07-29T12:15:50.619056Z",
     "shell.execute_reply": "2025-07-29T12:15:50.618035Z"
    },
    "papermill": {
     "duration": 19.549669,
     "end_time": "2025-07-29T12:15:50.621318",
     "exception": false,
     "start_time": "2025-07-29T12:15:31.071649",
     "status": "completed"
    },
    "tags": []
   },
   "outputs": [
    {
     "name": "stderr",
     "output_type": "stream",
     "text": [
      "/opt/conda/lib/python3.10/site-packages/scipy/__init__.py:146: UserWarning: A NumPy version >=1.16.5 and <1.23.0 is required for this version of SciPy (detected version 1.24.3\n",
      "  warnings.warn(f\"A NumPy version >={np_minversion} and <{np_maxversion}\"\n"
     ]
    }
   ],
   "source": [
    "import pandas as pd\n",
    "import numpy as np\n",
    "import math\n",
    "import re\n",
    "import transformers\n",
    "import tensorflow as tf\n",
    "from sklearn.model_selection import train_test_split\n",
    "from timeit import default_timer as timer\n",
    "import json\n",
    "import pickle\n",
    "import networkx as nx #For network creation/analysis\n",
    "#!pip install pygraphviz\n",
    "import itertools\n",
    "import matplotlib.pyplot as plt #For plotting graphs\n",
    "from sklearn.feature_extraction.text import TfidfVectorizer\n",
    "from typing import List, Dict, Optional\n"
   ]
  },
  {
   "cell_type": "markdown",
   "id": "a007c8df",
   "metadata": {
    "papermill": {
     "duration": 0.015684,
     "end_time": "2025-07-29T12:15:50.652973",
     "exception": false,
     "start_time": "2025-07-29T12:15:50.637289",
     "status": "completed"
    },
    "tags": []
   },
   "source": [
    "### 1. GRAPHS: Author and Paper Relationship"
   ]
  },
  {
   "cell_type": "markdown",
   "id": "723e7a09",
   "metadata": {
    "papermill": {
     "duration": 0.01636,
     "end_time": "2025-07-29T12:15:50.742076",
     "exception": false,
     "start_time": "2025-07-29T12:15:50.725716",
     "status": "completed"
    },
    "tags": []
   },
   "source": [
    "\n",
    "In this case, we are constructing a simple graph with connections between author nodes and book nodes. If an author has written the book or is a co-author, there will be a connection; otherwise, there won't be. Through a label propagation algorithm, we will label the genre of the nearest connection for those books that are not labeled. In this straightforward scenario, if the author of an unlabeled book is not connected to the other authors in the training set, no label propagation can be performed. This means that if an author of an unlabeled book doesn't have a direct or indirect connection with authors of labeled books, we won't be able to infer the genre label for that book through the label propagation algorithm."
   ]
  },
  {
   "cell_type": "code",
   "execution_count": 2,
   "id": "f5b0a30c",
   "metadata": {
    "execution": {
     "iopub.execute_input": "2025-07-29T12:15:50.777236Z",
     "iopub.status.busy": "2025-07-29T12:15:50.776175Z",
     "iopub.status.idle": "2025-07-29T12:15:50.782656Z",
     "shell.execute_reply": "2025-07-29T12:15:50.781757Z"
    },
    "papermill": {
     "duration": 0.026404,
     "end_time": "2025-07-29T12:15:50.784703",
     "exception": false,
     "start_time": "2025-07-29T12:15:50.758299",
     "status": "completed"
    },
    "tags": []
   },
   "outputs": [],
   "source": [
    "def add_nodes_edges_graph(G, df,\n",
    "                          author_c='Author', id_title_c='Book', label_c='Genre',\n",
    "                          weight=1):\n",
    "    for index, row in df.iterrows():\n",
    "        author = row[author_c]\n",
    "        label = row[label_c]\n",
    "        id_title = row[id_title_c]\n",
    "\n",
    "        if not G.has_node(author):\n",
    "            G.add_node(author)\n",
    "\n",
    "        if not G.has_node(id_title):\n",
    "            G.add_node(id_title, label=label)\n",
    "\n",
    "        G.add_edge(author, id_title, weight=weight)\n",
    "    return G"
   ]
  },
  {
   "cell_type": "code",
   "execution_count": 3,
   "id": "72ca1e9c",
   "metadata": {
    "execution": {
     "iopub.execute_input": "2025-07-29T12:15:50.819370Z",
     "iopub.status.busy": "2025-07-29T12:15:50.819032Z",
     "iopub.status.idle": "2025-07-29T12:15:50.829012Z",
     "shell.execute_reply": "2025-07-29T12:15:50.828100Z"
    },
    "papermill": {
     "duration": 0.029921,
     "end_time": "2025-07-29T12:15:50.830973",
     "exception": false,
     "start_time": "2025-07-29T12:15:50.801052",
     "status": "completed"
    },
    "tags": []
   },
   "outputs": [],
   "source": [
    "def propagate_label(G, df_new, author_c='Author', id_title_c='Book',\n",
    "                    label_c='Genre', distance_weight=None):\n",
    "    df_labeled = df_new.copy()\n",
    "    # Comprobar nodos en df_new están en el grafo G\n",
    "    for author_new in df_labeled[author_c].unique():\n",
    "        if not G.has_node(author_new):\n",
    "            G.add_node(author_new, Label=None)\n",
    "\n",
    "    # Propagar etiquetas desde nodos existentes (autores) a nodos nuevos (id_title)\n",
    "    for index, row in df_labeled.iterrows():\n",
    "        author_new = row[author_c]\n",
    "        # Verificar si hay nodos en G antes de intentar calcular distancias\n",
    "        if len(G) > 0:\n",
    "            # Calcular la distancia desde el nuevo autor\n",
    "            distances = nx.shortest_path_length(G, source=author_new,\n",
    "                                                target=None,\n",
    "                                                weight=distance_weight,\n",
    "                                                method=\"dijkstra\")\n",
    "            # Eliminar distancias == 0\n",
    "            distances_no_0 = {x: y for x, y in distances.items() if y != 0}\n",
    "            # Verificar si hay nodos en G después de eliminar distancias == 0\n",
    "            if len(distances_no_0) > 0:\n",
    "                nearest_node_existing = min(distances_no_0, key=distances_no_0.get)\n",
    "                label_propagated = G.nodes[nearest_node_existing].get('label', None)\n",
    "            else:\n",
    "                label_propagated = None\n",
    "        else:\n",
    "            label_propagated = None\n",
    "\n",
    "        id_new = row[id_title_c]\n",
    "        if not G.has_node(id_new):\n",
    "            G.add_node(id_new, label=label_propagated)\n",
    "        G.add_edge(author_new, id_new, weight=1)\n",
    "\n",
    "        df_labeled.at[index, label_c] = label_propagated\n",
    "\n",
    "    return G, df_labeled"
   ]
  },
  {
   "cell_type": "code",
   "execution_count": 4,
   "id": "1e0f1b44",
   "metadata": {
    "execution": {
     "iopub.execute_input": "2025-07-29T12:15:50.864521Z",
     "iopub.status.busy": "2025-07-29T12:15:50.864150Z",
     "iopub.status.idle": "2025-07-29T12:15:50.874573Z",
     "shell.execute_reply": "2025-07-29T12:15:50.873609Z"
    },
    "papermill": {
     "duration": 0.029706,
     "end_time": "2025-07-29T12:15:50.876646",
     "exception": false,
     "start_time": "2025-07-29T12:15:50.846940",
     "status": "completed"
    },
    "tags": []
   },
   "outputs": [],
   "source": [
    "# Crear un DataFrame de ejemplo - Train\n",
    "data_train = {'Author': ['Author1', 'Author2', 'Author3', 'Author4'],\n",
    "              'Book': ['Book A', 'Book A', 'Book A', 'Book B'],\n",
    "              'Genre': ['Scify', 'Scify', 'Scify', 'Drama'],\n",
    "              'Summary': [\n",
    "                  'An exciting fiction story that will keep you glued to the pages.',\n",
    "                  'An exciting fiction story that will keep you glued to the pages.',\n",
    "                  'An exciting fiction story that will keep you glued to the pages.',\n",
    "                  'An informative and educational journey through intriguing topics in this book.']}\n",
    "df_train = pd.DataFrame(data_train)\n",
    "\n",
    "# Crear un DataFrame de ejemplo - Validation\n",
    "data_new = {'Author': ['Author3', 'Author4'],\n",
    "            'Book': ['Book C', 'Book D'],\n",
    "            'Genre': [None, None],\n",
    "            'Summary': [\n",
    "                    'Discover the genre of this book full of mystery and emotion.',\n",
    "                    'Immerse yourself in the intriguing plot of this non-fiction gem.',\n",
    "            ]}\n",
    "df_new = pd.DataFrame(data_new)"
   ]
  },
  {
   "cell_type": "code",
   "execution_count": 5,
   "id": "37bed42b",
   "metadata": {
    "execution": {
     "iopub.execute_input": "2025-07-29T12:15:50.910195Z",
     "iopub.status.busy": "2025-07-29T12:15:50.909860Z",
     "iopub.status.idle": "2025-07-29T12:15:50.913830Z",
     "shell.execute_reply": "2025-07-29T12:15:50.913006Z"
    },
    "papermill": {
     "duration": 0.022639,
     "end_time": "2025-07-29T12:15:50.915704",
     "exception": false,
     "start_time": "2025-07-29T12:15:50.893065",
     "status": "completed"
    },
    "tags": []
   },
   "outputs": [],
   "source": [
    "# Crear un grafo no dirigido\n",
    "G = nx.Graph()"
   ]
  },
  {
   "cell_type": "code",
   "execution_count": 6,
   "id": "44c781dc",
   "metadata": {
    "execution": {
     "iopub.execute_input": "2025-07-29T12:15:50.949485Z",
     "iopub.status.busy": "2025-07-29T12:15:50.948628Z",
     "iopub.status.idle": "2025-07-29T12:15:50.957906Z",
     "shell.execute_reply": "2025-07-29T12:15:50.956885Z"
    },
    "papermill": {
     "duration": 0.02834,
     "end_time": "2025-07-29T12:15:50.959838",
     "exception": false,
     "start_time": "2025-07-29T12:15:50.931498",
     "status": "completed"
    },
    "tags": []
   },
   "outputs": [],
   "source": [
    "G = add_nodes_edges_graph(G, df_train)"
   ]
  },
  {
   "cell_type": "code",
   "execution_count": 7,
   "id": "fdf0907c",
   "metadata": {
    "execution": {
     "iopub.execute_input": "2025-07-29T12:15:50.993260Z",
     "iopub.status.busy": "2025-07-29T12:15:50.992892Z",
     "iopub.status.idle": "2025-07-29T12:15:51.002579Z",
     "shell.execute_reply": "2025-07-29T12:15:51.001592Z"
    },
    "papermill": {
     "duration": 0.028188,
     "end_time": "2025-07-29T12:15:51.004396",
     "exception": false,
     "start_time": "2025-07-29T12:15:50.976208",
     "status": "completed"
    },
    "tags": []
   },
   "outputs": [],
   "source": [
    "G, df_new_labeled = propagate_label(G, df_new, author_c='Author', id_title_c='Book', label_c='Genre')"
   ]
  },
  {
   "cell_type": "code",
   "execution_count": 8,
   "id": "940251ac",
   "metadata": {
    "execution": {
     "iopub.execute_input": "2025-07-29T12:15:51.038020Z",
     "iopub.status.busy": "2025-07-29T12:15:51.036961Z",
     "iopub.status.idle": "2025-07-29T12:15:51.041966Z",
     "shell.execute_reply": "2025-07-29T12:15:51.041009Z"
    },
    "papermill": {
     "duration": 0.023628,
     "end_time": "2025-07-29T12:15:51.043893",
     "exception": false,
     "start_time": "2025-07-29T12:15:51.020265",
     "status": "completed"
    },
    "tags": []
   },
   "outputs": [],
   "source": [
    "nodes = nx.nodes(G)\n",
    "labels = nx.get_node_attributes(G, \"label\")\n",
    "edges = nx.edges(G)\n",
    "edges_weights = nx.get_edge_attributes(G, 'weight')"
   ]
  },
  {
   "cell_type": "code",
   "execution_count": 9,
   "id": "0919a1ed",
   "metadata": {
    "execution": {
     "iopub.execute_input": "2025-07-29T12:15:51.086035Z",
     "iopub.status.busy": "2025-07-29T12:15:51.084736Z",
     "iopub.status.idle": "2025-07-29T12:15:51.368079Z",
     "shell.execute_reply": "2025-07-29T12:15:51.366924Z"
    },
    "papermill": {
     "duration": 0.309429,
     "end_time": "2025-07-29T12:15:51.370364",
     "exception": false,
     "start_time": "2025-07-29T12:15:51.060935",
     "status": "completed"
    },
    "tags": []
   },
   "outputs": [
    {
     "data": {
      "image/png": "[encoded data removed]",
      "text/plain": [
       "<Figure size 640x480 with 1 Axes>"
      ]
     },
     "metadata": {},
     "output_type": "display_data"
    }
   ],
   "source": [
    "#pos = nx.nx_agraph.graphviz_layout(G)\n",
    "pos = nx.spring_layout(G)\n",
    "# nodes\n",
    "nx.draw_networkx_nodes(G, pos, node_size=500, node_color='lightblue')\n",
    "# edges\n",
    "nx.draw_networkx_edges(G, pos, width=1)\n",
    "\n",
    "# node labels\n",
    "nx.draw_networkx_labels(G, pos, font_size=7, font_family=\"sans-serif\")\n",
    "# edge weight labels\n",
    "#edge_labels = nx.get_edge_attributes(G, \"weight\")\n",
    "edge_labels = dict([((u,v,), f\"{d['weight']:.2f}\") for u,v,d in G.edges(data=True)])\n",
    "nx.draw_networkx_edge_labels(G, pos, edge_labels, font_size=6.5)\n",
    "\n",
    "ax = plt.gca()\n",
    "ax.margins(0.08)\n",
    "plt.axis(\"off\")\n",
    "plt.tight_layout()\n",
    "plt.show()"
   ]
  },
  {
   "cell_type": "markdown",
   "id": "a00f30ea",
   "metadata": {
    "papermill": {
     "duration": 0.017025,
     "end_time": "2025-07-29T12:15:51.404083",
     "exception": false,
     "start_time": "2025-07-29T12:15:51.387058",
     "status": "completed"
    },
    "tags": []
   },
   "source": [
    "## 2. GRAPHS: tfidf"
   ]
  },
  {
   "cell_type": "markdown",
   "id": "e87733df",
   "metadata": {
    "papermill": {
     "duration": 0.016794,
     "end_time": "2025-07-29T12:15:51.436985",
     "exception": false,
     "start_time": "2025-07-29T12:15:51.420191",
     "status": "completed"
    },
    "tags": []
   },
   "source": [
    "\n",
    "In this section, we will construct a graph to capture the relationships between authors, the books they have written, and the words present in the summaries of those books. The graph will be directed and will include nodes representing authors, books, and words. To weigh the relationships between words in the summaries and the respective books, we will leverage the TF-IDF (Term Frequency-Inverse Document Frequency) values. TF-IDF provides a measure of the importance of words in the context of specific documents.\n",
    "\n",
    "The construction of the graph involves adding nodes for authors, books, and words, and edges to represent connections between them. The edges between book and word nodes will be weighted using the inverse of the TF-IDF values. This weighting scheme ensures that words with higher TF-IDF values, indicating their significance within a specific book, contribute more strongly to the graph's structure"
   ]
  },
  {
   "cell_type": "markdown",
   "id": "a777079b",
   "metadata": {
    "papermill": {
     "duration": 0.017013,
     "end_time": "2025-07-29T12:15:51.476328",
     "exception": false,
     "start_time": "2025-07-29T12:15:51.459315",
     "status": "completed"
    },
    "tags": []
   },
   "source": [
    "In our context, the higher the TF-IDF value for a word associated with a book, the more relevant and specific that word is to that particular book. To reflect this relationship, when calculating the weights of connections between book and word nodes, we take the exponential inverse of the TF-IDF value. Thus, terms with higher TF-IDF values will have higher weights in connections, indicating a stronger relationship with the book.\n",
    "\n",
    "On the other hand, we assign a low weight to connections between author and book nodes (*author_weight*), as they represent a more direct relationship. This assignment aims to reflect the narrower and more direct nature of the connection between an author and their books. With this combination of weights, we aim to effectively model relationships in the graph, emphasizing the importance of specific words for each book and the more direct connection between authors and books."
   ]
  },
  {
   "cell_type": "markdown",
   "id": "2aee663b",
   "metadata": {
    "papermill": {
     "duration": 0.016135,
     "end_time": "2025-07-29T12:15:51.509516",
     "exception": false,
     "start_time": "2025-07-29T12:15:51.493381",
     "status": "completed"
    },
    "tags": []
   },
   "source": [
    "The ultimate goal is to assign fuzzy labels to each book, indicating the degree of membership in different genres. To build the model, we start with a set of books with their assigned genres and another set with unassigned genres, but where we know the true genre. For the unassigned set, we calculate fuzzy genres based on the connections in the graph we've constructed. Simultaneously, we also create these fuzzy labels for the labeled set used to propagate labels. In this case, we assign a high fixed value (*self_weigth*) for the correct label and calculate the membership to the nearest genres, similar to what we've done for the unlabeled set. This way, for the entire dataset, we have fuzzy labels indicating membership in the closest genres and their true labels."
   ]
  },
  {
   "cell_type": "code",
   "execution_count": 10,
   "id": "0a32ff34",
   "metadata": {
    "execution": {
     "iopub.execute_input": "2025-07-29T12:15:51.544128Z",
     "iopub.status.busy": "2025-07-29T12:15:51.543747Z",
     "iopub.status.idle": "2025-07-29T12:15:51.549124Z",
     "shell.execute_reply": "2025-07-29T12:15:51.548130Z"
    },
    "papermill": {
     "duration": 0.02483,
     "end_time": "2025-07-29T12:15:51.551213",
     "exception": false,
     "start_time": "2025-07-29T12:15:51.526383",
     "status": "completed"
    },
    "tags": []
   },
   "outputs": [],
   "source": [
    "def tokenize_text(text, tokenizer, max_length=512):\n",
    "    tokens_ids = tokenizer.encode(text, add_special_tokens=False, truncation=True, max_length=512)\n",
    "    tokens_strings = tokenizer.convert_ids_to_tokens(tokens_ids, skip_special_tokens=True)\n",
    "    return tokens_strings"
   ]
  },
  {
   "cell_type": "code",
   "execution_count": 11,
   "id": "bfda820a",
   "metadata": {
    "execution": {
     "iopub.execute_input": "2025-07-29T12:15:51.586278Z",
     "iopub.status.busy": "2025-07-29T12:15:51.585296Z",
     "iopub.status.idle": "2025-07-29T12:15:51.593173Z",
     "shell.execute_reply": "2025-07-29T12:15:51.592269Z"
    },
    "papermill": {
     "duration": 0.027546,
     "end_time": "2025-07-29T12:15:51.595120",
     "exception": false,
     "start_time": "2025-07-29T12:15:51.567574",
     "status": "completed"
    },
    "tags": []
   },
   "outputs": [
    {
     "data": {
      "text/plain": [
       "\"\\ndef create_tfidf_df(df_input, tokenizer, vocabulary, column='full_text'):\\n    df_input['tokens'] = df_input[column].apply(tokenize_text, tokenizer=tokenizer)\\n    df_input['tokens_as_strings'] = df_input['tokens'].apply(lambda tokens: ' '.join(tokens))\\n    tfidf_vectorizer = TfidfVectorizer(vocabulary=vocabulary, lowercase=False)\\n    tfidf_matrix = tfidf_vectorizer.fit_transform(df_input['tokens_as_strings'])\\n    feature_names = tfidf_vectorizer.get_feature_names_out()\\n    df_tfidf = pd.DataFrame(tfidf_matrix.toarray(), columns=feature_names)\\n    df_input = pd.concat([df_input.drop(columns=['tokens', 'tokens_as_strings', f'{column}']\\n                                        ),\\n                          df_tfidf], axis=1)\\n    return df_input, feature_names\\n\""
      ]
     },
     "execution_count": 11,
     "metadata": {},
     "output_type": "execute_result"
    }
   ],
   "source": [
    "'''\n",
    "def create_tfidf_df(df_input, tokenizer, vocabulary, column='full_text'):\n",
    "    df_input['tokens'] = df_input[column].apply(tokenize_text, tokenizer=tokenizer)\n",
    "    df_input['tokens_as_strings'] = df_input['tokens'].apply(lambda tokens: ' '.join(tokens))\n",
    "    tfidf_vectorizer = TfidfVectorizer(vocabulary=vocabulary, lowercase=False)\n",
    "    tfidf_matrix = tfidf_vectorizer.fit_transform(df_input['tokens_as_strings'])\n",
    "    feature_names = tfidf_vectorizer.get_feature_names_out()\n",
    "    df_tfidf = pd.DataFrame(tfidf_matrix.toarray(), columns=feature_names)\n",
    "    df_input = pd.concat([df_input.drop(columns=['tokens', 'tokens_as_strings', f'{column}']\n",
    "                                        ),\n",
    "                          df_tfidf], axis=1)\n",
    "    return df_input, feature_names\n",
    "'''"
   ]
  },
  {
   "cell_type": "code",
   "execution_count": 12,
   "id": "6dd22135",
   "metadata": {
    "execution": {
     "iopub.execute_input": "2025-07-29T12:15:51.640005Z",
     "iopub.status.busy": "2025-07-29T12:15:51.639068Z",
     "iopub.status.idle": "2025-07-29T12:15:51.647012Z",
     "shell.execute_reply": "2025-07-29T12:15:51.646099Z"
    },
    "papermill": {
     "duration": 0.036062,
     "end_time": "2025-07-29T12:15:51.649360",
     "exception": false,
     "start_time": "2025-07-29T12:15:51.613298",
     "status": "completed"
    },
    "tags": []
   },
   "outputs": [
    {
     "data": {
      "text/plain": [
       "\"\\ndef add_nodes_edges_graph_tfidf(G, df, features_names, is_new=None, alpha_word_weight=2,\\n                                author_weight=0.90,\\n                                author_c='Author_0', id_title_c='Book_0', label_c='Genre_0'):\\n    # Ajustar el peso inversamente proporcional del autor\\n    inverse_author_weight = math.exp(-alpha_word_weight * author_weight)\\n    for index, row in df.iterrows():\\n        author = row[author_c]\\n        id_title = row[id_title_c]\\n        label = row[label_c]\\n        if is_new:\\n            G.add_node(id_title, label=None, original_label=label, is_title=1, is_new=is_new)\\n        else:\\n            G.add_node(id_title, label=[{label: inverse_author_weight}],\\n                       original_label=label, is_title=1, is_new=None)\\n        G.add_node(author, label=None, is_title=None)\\n        for token in feature_names:\\n            w = row[token]\\n            if w > 0:\\n                G.add_node(token, label=None, is_title=None)\\n                # Ajustar el peso inversamente proporcional al valor del TF-IDF\\n                inverse_weight = math.exp(-alpha_word_weight * w)\\n                G.add_edge(id_title, token, weight=inverse_weight)\\n                G.add_edge(author, id_title, weight=inverse_author_weight)\\n    return G\\n\""
      ]
     },
     "execution_count": 12,
     "metadata": {},
     "output_type": "execute_result"
    }
   ],
   "source": [
    "'''\n",
    "def add_nodes_edges_graph_tfidf(G, df, features_names, is_new=None, alpha_word_weight=2,\n",
    "                                author_weight=0.90,\n",
    "                                author_c='Author_0', id_title_c='Book_0', label_c='Genre_0'):\n",
    "    # Ajustar el peso inversamente proporcional del autor\n",
    "    inverse_author_weight = math.exp(-alpha_word_weight * author_weight)\n",
    "    for index, row in df.iterrows():\n",
    "        author = row[author_c]\n",
    "        id_title = row[id_title_c]\n",
    "        label = row[label_c]\n",
    "        if is_new:\n",
    "            G.add_node(id_title, label=None, original_label=label, is_title=1, is_new=is_new)\n",
    "        else:\n",
    "            G.add_node(id_title, label=[{label: inverse_author_weight}],\n",
    "                       original_label=label, is_title=1, is_new=None)\n",
    "        G.add_node(author, label=None, is_title=None)\n",
    "        for token in feature_names:\n",
    "            w = row[token]\n",
    "            if w > 0:\n",
    "                G.add_node(token, label=None, is_title=None)\n",
    "                # Ajustar el peso inversamente proporcional al valor del TF-IDF\n",
    "                inverse_weight = math.exp(-alpha_word_weight * w)\n",
    "                G.add_edge(id_title, token, weight=inverse_weight)\n",
    "                G.add_edge(author, id_title, weight=inverse_author_weight)\n",
    "    return G\n",
    "'''"
   ]
  },
  {
   "cell_type": "code",
   "execution_count": 13,
   "id": "080522ad",
   "metadata": {
    "execution": {
     "iopub.execute_input": "2025-07-29T12:15:51.692326Z",
     "iopub.status.busy": "2025-07-29T12:15:51.691910Z",
     "iopub.status.idle": "2025-07-29T12:15:51.701812Z",
     "shell.execute_reply": "2025-07-29T12:15:51.700603Z"
    },
    "papermill": {
     "duration": 0.034823,
     "end_time": "2025-07-29T12:15:51.704261",
     "exception": false,
     "start_time": "2025-07-29T12:15:51.669438",
     "status": "completed"
    },
    "tags": []
   },
   "outputs": [],
   "source": [
    "def compute_labels_for_unlabeled_nodes(G, distance_weight=None,\n",
    "                                       label_attr='label', num_closest_labels=3):\n",
    "    unlabeled_nodes = [node for node in G.nodes if G.nodes[node].get(label_attr) is None]\n",
    "    dict_distances = {}\n",
    "\n",
    "    for unlabeled_node in unlabeled_nodes:\n",
    "        distances = nx.single_source_dijkstra_path_length(G, unlabeled_node, weight=distance_weight)\n",
    "        dict_distances[unlabeled_node] = {}\n",
    "\n",
    "        # Filtrar los nodos más cercanos que están previamente etiquetados y tienen el atributo id_title=1\n",
    "        closest_labels = [(labeled_node, distance) for labeled_node, distance in distances.items()\n",
    "                          if G.nodes[labeled_node].get(label_attr) is not None\n",
    "                          and G.nodes[labeled_node].get('is_title') == 1\n",
    "                          and G.nodes[labeled_node].get('is_new') is None][:num_closest_labels]\n",
    "\n",
    "        for labeled_node, distance in closest_labels:\n",
    "            labeled_node_label = G.nodes[labeled_node].get(label_attr)\n",
    "            dict_distances[unlabeled_node][labeled_node] = {'distance': distance,\n",
    "                                                            'label': labeled_node_label}\n",
    "        \n",
    "        # Añadir el atributo de etiqueta al nodo no etiquetado\n",
    "        #G.nodes[unlabeled_node][label_attr] = dict_distances[unlabeled_node]\n",
    "        G.nodes[unlabeled_node][label_attr] = [{list(dict_distances[unlabeled_node].get(title).get('label')[0].keys())[0]:\n",
    "                                                dict_distances[unlabeled_node].get(title).get('distance')\n",
    "                                                 } for title in dict_distances[unlabeled_node].keys()]\n",
    "    return G"
   ]
  },
  {
   "cell_type": "code",
   "execution_count": 14,
   "id": "4f44c8f0",
   "metadata": {
    "execution": {
     "iopub.execute_input": "2025-07-29T12:15:51.739578Z",
     "iopub.status.busy": "2025-07-29T12:15:51.739125Z",
     "iopub.status.idle": "2025-07-29T12:15:51.758244Z",
     "shell.execute_reply": "2025-07-29T12:15:51.757132Z"
    },
    "papermill": {
     "duration": 0.039482,
     "end_time": "2025-07-29T12:15:51.760940",
     "exception": false,
     "start_time": "2025-07-29T12:15:51.721458",
     "status": "completed"
    },
    "tags": []
   },
   "outputs": [],
   "source": [
    "def compute_labels_for_unlabeled_labeled_nodes(G, distance_weight=None,\n",
    "                                               label_attr='label', num_closest_labels=3):\n",
    "    unlabeled_nodes = [node for node in G.nodes if G.nodes[node].get(label_attr) is None]\n",
    "    labeled_nodes_original = [node for node in G.nodes if G.nodes[node].get('is_new') is None]\n",
    "    dict_distances = {}\n",
    "    dict_distances_original = {}\n",
    "\n",
    "    for unlabeled_node in unlabeled_nodes:\n",
    "        distances = nx.single_source_dijkstra_path_length(G, unlabeled_node, weight=distance_weight)\n",
    "        dict_distances[unlabeled_node] = {}\n",
    "        # Filtrar los nodos más cercanos que están previamente etiquetados y tienen el atributo id_title=1\n",
    "        closest_labels = [(labeled_node, distance) for labeled_node, distance in distances.items()\n",
    "                          if G.nodes[labeled_node].get(label_attr) is not None\n",
    "                          and G.nodes[labeled_node].get('is_title') == 1\n",
    "                          and G.nodes[labeled_node].get('is_new') is None][:num_closest_labels]\n",
    "\n",
    "        for labeled_node, distance in closest_labels:\n",
    "            labeled_node_label = G.nodes[labeled_node].get(label_attr)\n",
    "            dict_distances[unlabeled_node][labeled_node] = {'distance': distance,\n",
    "                                                            'label': labeled_node_label}\n",
    "        \n",
    "        # Añadir el atributo de etiqueta al nodo no etiquetado\n",
    "        G.nodes[unlabeled_node][label_attr] = [{list(dict_distances[unlabeled_node].get(title).get('label')[0].keys())[0]:\n",
    "                                                dict_distances[unlabeled_node].get(title).get('distance')\n",
    "                                                 } for title in dict_distances[unlabeled_node].keys()]\n",
    "    for labeled_node_o in labeled_nodes_original:\n",
    "        distances = nx.single_source_dijkstra_path_length(G, labeled_node_o, weight=distance_weight)\n",
    "        dict_distances_original[labeled_node_o] = {}\n",
    "        # Filtrar los nodos más cercanos que están previamente etiquetados y tienen el atributo id_title=1\n",
    "        closest_labels = [(labeled_node, distance) for labeled_node, distance in distances.items()\n",
    "                          if G.nodes[labeled_node].get(label_attr) is not None\n",
    "                          and G.nodes[labeled_node].get('is_title') == 1\n",
    "                          and G.nodes[labeled_node].get('is_new') is None][:num_closest_labels]\n",
    "\n",
    "        for labeled_node, distance in closest_labels:\n",
    "            labeled_node_label = G.nodes[labeled_node].get(label_attr)\n",
    "            dict_distances_original[labeled_node_o][labeled_node] = {'distance': distance,\n",
    "                                                                     'label': labeled_node_label}\n",
    "        G.nodes[labeled_node_o][label_attr] = [{list(dict_distances_original[labeled_node_o].get(title).get('label')[0].keys())[0]:\n",
    "                                                dict_distances_original[labeled_node_o].get(title).get('distance')\n",
    "                                                 } for title in dict_distances_original[labeled_node_o].keys()]\n",
    "    return G"
   ]
  },
  {
   "cell_type": "code",
   "execution_count": 15,
   "id": "f2433549",
   "metadata": {
    "execution": {
     "iopub.execute_input": "2025-07-29T12:15:51.801017Z",
     "iopub.status.busy": "2025-07-29T12:15:51.800496Z",
     "iopub.status.idle": "2025-07-29T12:15:51.809293Z",
     "shell.execute_reply": "2025-07-29T12:15:51.808365Z"
    },
    "papermill": {
     "duration": 0.031807,
     "end_time": "2025-07-29T12:15:51.811204",
     "exception": false,
     "start_time": "2025-07-29T12:15:51.779397",
     "status": "completed"
    },
    "tags": []
   },
   "outputs": [],
   "source": [
    "def complete_matrix_with_zeros(input_dict, unique_labels):\n",
    "    result_list = []\n",
    "    key_list = []\n",
    "    for key, value in input_dict.items():\n",
    "        existing_labels = set(value.keys())\n",
    "        missing_labels = set(unique_labels) - existing_labels\n",
    "        for missing_label in missing_labels:\n",
    "            value[missing_label] = 0.0\n",
    "        '''\n",
    "        # Ordenar las claves en el diccionario resultante -> Con claves\n",
    "        sorted_labels = sorted(value.items(), key=lambda x: x[0])\n",
    "        input_dict[key] = dict(sorted_labels)\n",
    "        '''\n",
    "        # Ordenar las claves en el diccionario resultante según el orden de unique_labels\n",
    "        sorted_labels = sorted(value.items(), key=lambda x: unique_labels.index(x[0]))\n",
    "        result_list.append(list(dict(sorted_labels).values()))\n",
    "        key_list.append(key)\n",
    "    return result_list, key_list"
   ]
  },
  {
   "cell_type": "code",
   "execution_count": 16,
   "id": "7ef04015",
   "metadata": {
    "execution": {
     "iopub.execute_input": "2025-07-29T12:15:51.847338Z",
     "iopub.status.busy": "2025-07-29T12:15:51.846303Z",
     "iopub.status.idle": "2025-07-29T12:15:51.852274Z",
     "shell.execute_reply": "2025-07-29T12:15:51.851130Z"
    },
    "papermill": {
     "duration": 0.026635,
     "end_time": "2025-07-29T12:15:51.854946",
     "exception": false,
     "start_time": "2025-07-29T12:15:51.828311",
     "status": "completed"
    },
    "tags": []
   },
   "outputs": [],
   "source": [
    "def transform_distance(w, a=2, self_weigth=0.95):\n",
    "    if w==0:\n",
    "        return self_weigth\n",
    "    else:\n",
    "        return (-math.log(w) / a)"
   ]
  },
  {
   "cell_type": "code",
   "execution_count": 17,
   "id": "baf1879f",
   "metadata": {
    "execution": {
     "iopub.execute_input": "2025-07-29T12:15:51.896643Z",
     "iopub.status.busy": "2025-07-29T12:15:51.895699Z",
     "iopub.status.idle": "2025-07-29T12:15:51.903079Z",
     "shell.execute_reply": "2025-07-29T12:15:51.901953Z"
    },
    "papermill": {
     "duration": 0.027611,
     "end_time": "2025-07-29T12:15:51.905036",
     "exception": false,
     "start_time": "2025-07-29T12:15:51.877425",
     "status": "completed"
    },
    "tags": []
   },
   "outputs": [],
   "source": [
    "# Crear un DataFrame de ejemplo - Train\n",
    "data_train = {'Author': ['Author1', 'Author2', 'Author3', 'Author4'],\n",
    "              'Book': ['Book A', 'Book A', 'Book A', 'Book B'],\n",
    "              'Genre': ['Scify', 'Scify', 'Scify', 'Drama'],\n",
    "              'Summary': [\n",
    "                  'An exciting fiction story that will keep you glued to the pages.',\n",
    "                  'An exciting fiction story that will keep you glued to the pages.',\n",
    "                  'An exciting fiction story that will keep you glued to the pages.',\n",
    "                  'An informative and educational journey through intriguing topics in this book.']}\n",
    "df_train = pd.DataFrame(data_train)\n",
    "\n",
    "# Crear un DataFrame de ejemplo - Validation\n",
    "data_new = {'Author': ['Author3', 'Author4'],\n",
    "            'Book': ['Book C', 'Book D'],\n",
    "            'Genre_unlabeled': [None, None],\n",
    "            'Genre': ['Scify', 'Drama'],\n",
    "            'Summary': [\n",
    "                    'Discover the genre of this book full of mystery and emotion.',\n",
    "                    'Immerse yourself in the intriguing plot of this non-fiction gem.',\n",
    "            ]}\n",
    "df_new = pd.DataFrame(data_new)"
   ]
  },
  {
   "cell_type": "markdown",
   "id": "92fee336",
   "metadata": {
    "papermill": {
     "duration": 0.017035,
     "end_time": "2025-07-29T12:15:51.939421",
     "exception": false,
     "start_time": "2025-07-29T12:15:51.922386",
     "status": "completed"
    },
    "tags": []
   },
   "source": [
    "## OPTIMIZED FUNCTIONS"
   ]
  },
  {
   "cell_type": "code",
   "execution_count": 18,
   "id": "e7fa25d5",
   "metadata": {
    "execution": {
     "iopub.execute_input": "2025-07-29T12:15:51.974623Z",
     "iopub.status.busy": "2025-07-29T12:15:51.974260Z",
     "iopub.status.idle": "2025-07-29T12:15:51.981903Z",
     "shell.execute_reply": "2025-07-29T12:15:51.980846Z"
    },
    "papermill": {
     "duration": 0.027699,
     "end_time": "2025-07-29T12:15:51.983837",
     "exception": false,
     "start_time": "2025-07-29T12:15:51.956138",
     "status": "completed"
    },
    "tags": []
   },
   "outputs": [],
   "source": [
    "def tokenize_text(text, tokenizer, max_length=512):\n",
    "    tokens_ids = tokenizer.encode(text, add_special_tokens=False, truncation=True, max_length=512)\n",
    "    tokens_strings = tokenizer.convert_ids_to_tokens(tokens_ids, skip_special_tokens=True)\n",
    "    return tokens_strings\n",
    "\n",
    "def create_tfidf_df(df_input, tokenizer, vocabulary, column='full_text'):\n",
    "    # Tokenización\n",
    "\n",
    "    #tokens = df_input[column].apply(tokenize_text, tokenizer=tokenizer)\n",
    "    #tokens = np.vectorize(tokenize_text)(df_input[column], tokenizer=tokenizer)\n",
    "    tokens = df_input[column].apply(lambda text: tokenize_text(text, tokenizer))\n",
    "\n",
    "    # Concatenar tokens como strings\n",
    "    tokens_as_strings = [' '.join(doc_tokens) for doc_tokens in tokens]\n",
    "\n",
    "    # Crear la matriz TF-IDF\n",
    "    tfidf_vectorizer = TfidfVectorizer(vocabulary=vocabulary, lowercase=False)\n",
    "    tfidf_matrix = tfidf_vectorizer.fit_transform(tokens_as_strings)\n",
    "\n",
    "    # Obtener los nombres de las características\n",
    "    feature_names = tfidf_vectorizer.get_feature_names_out()\n",
    "\n",
    "    # Concatenar las características TF-IDF con el resto de los datos\n",
    "    data_array = df_input.drop(columns=[column]).to_numpy()\n",
    "    tfidf_array = tfidf_matrix.toarray()\n",
    "    data_with_tfidf = np.concatenate([data_array, tfidf_array], axis=1)\n",
    "\n",
    "    return data_with_tfidf, feature_names"
   ]
  },
  {
   "cell_type": "code",
   "execution_count": 19,
   "id": "73f3b3a5",
   "metadata": {
    "execution": {
     "iopub.execute_input": "2025-07-29T12:15:52.020192Z",
     "iopub.status.busy": "2025-07-29T12:15:52.019839Z",
     "iopub.status.idle": "2025-07-29T12:15:52.028235Z",
     "shell.execute_reply": "2025-07-29T12:15:52.027110Z"
    },
    "papermill": {
     "duration": 0.029393,
     "end_time": "2025-07-29T12:15:52.030297",
     "exception": false,
     "start_time": "2025-07-29T12:15:52.000904",
     "status": "completed"
    },
    "tags": []
   },
   "outputs": [],
   "source": [
    "def add_nodes_edges_graph_tfidf(G, df, features_names, is_new=None, alpha_word_weight=2,\n",
    "                                author_weight=0.90,\n",
    "                                author_c=0, id_title_c=1, label_c=2):\n",
    "    # Ajustar el peso inversamente proporcional del autor\n",
    "    inverse_author_weight = math.exp(-alpha_word_weight * author_weight)\n",
    "\n",
    "    for row in df:\n",
    "        author = row[author_c]\n",
    "        id_title = row[id_title_c]\n",
    "        label = row[label_c]\n",
    "\n",
    "        if is_new:\n",
    "            G.add_node(id_title, label=None, original_label=label, is_title=1, is_new=is_new)\n",
    "        else:\n",
    "            G.add_node(id_title, label=[{label: inverse_author_weight}],\n",
    "                       original_label=label, is_title=1, is_new=None)\n",
    "\n",
    "        G.add_node(author, label=None, is_title=None)\n",
    "\n",
    "        for i in range(len(feature_names)):\n",
    "            w = row[i+4]\n",
    "            token = feature_names[i]\n",
    "            if isinstance(w, float):\n",
    "                if w > 0:\n",
    "                    G.add_node(token, label=None, is_title=None)\n",
    "                    # Ajustar el peso inversamente proporcional al valor del TF-IDF\n",
    "                    inverse_weight = math.exp(-alpha_word_weight * w)\n",
    "                    G.add_edge(id_title, token, weight=inverse_weight)\n",
    "                    G.add_edge(author, id_title, weight=inverse_author_weight)\n",
    "            else:\n",
    "                print(w)\n",
    "\n",
    "    return G"
   ]
  },
  {
   "cell_type": "markdown",
   "id": "4dee924c",
   "metadata": {
    "papermill": {
     "duration": 0.017235,
     "end_time": "2025-07-29T12:15:52.065270",
     "exception": false,
     "start_time": "2025-07-29T12:15:52.048035",
     "status": "completed"
    },
    "tags": []
   },
   "source": [
    "Tokenizer"
   ]
  },
  {
   "cell_type": "code",
   "execution_count": 20,
   "id": "7d6cea5d",
   "metadata": {
    "execution": {
     "iopub.execute_input": "2025-07-29T12:15:52.101184Z",
     "iopub.status.busy": "2025-07-29T12:15:52.100682Z",
     "iopub.status.idle": "2025-07-29T12:15:53.220433Z",
     "shell.execute_reply": "2025-07-29T12:15:53.219590Z"
    },
    "papermill": {
     "duration": 1.140062,
     "end_time": "2025-07-29T12:15:53.222717",
     "exception": false,
     "start_time": "2025-07-29T12:15:52.082655",
     "status": "completed"
    },
    "tags": []
   },
   "outputs": [
    {
     "data": {
      "application/vnd.jupyter.widget-view+json": {
       "model_id": "e300c998620d43fa9cd88ea992b77a13",
       "version_major": 2,
       "version_minor": 0
      },
      "text/plain": [
       "tokenizer_config.json:   0%|          | 0.00/350 [00:00<?, ?B/s]"
      ]
     },
     "metadata": {},
     "output_type": "display_data"
    },
    {
     "data": {
      "application/vnd.jupyter.widget-view+json": {
       "model_id": "eb2c68a212844171adf9fe36e9d2ae83",
       "version_major": 2,
       "version_minor": 0
      },
      "text/plain": [
       "vocab.txt: 0.00B [00:00, ?B/s]"
      ]
     },
     "metadata": {},
     "output_type": "display_data"
    },
    {
     "data": {
      "application/vnd.jupyter.widget-view+json": {
       "model_id": "cf5d3589ac7c4831a70f07b10b7cc008",
       "version_major": 2,
       "version_minor": 0
      },
      "text/plain": [
       "special_tokens_map.json:   0%|          | 0.00/112 [00:00<?, ?B/s]"
      ]
     },
     "metadata": {},
     "output_type": "display_data"
    },
    {
     "data": {
      "application/vnd.jupyter.widget-view+json": {
       "model_id": "69d7fa2d0dff405f9a6ebec04fa9b10a",
       "version_major": 2,
       "version_minor": 0
      },
      "text/plain": [
       "tokenizer.json: 0.00B [00:00, ?B/s]"
      ]
     },
     "metadata": {},
     "output_type": "display_data"
    }
   ],
   "source": [
    "# Crear un tokenizer de BERT\n",
    "tokenizer = transformers.DistilBertTokenizer.from_pretrained(\"OpenAlex/distilbert-base-cased-finetuned-topic-classification-title-abstract\")"
   ]
  },
  {
   "cell_type": "code",
   "execution_count": 21,
   "id": "20d95354",
   "metadata": {
    "execution": {
     "iopub.execute_input": "2025-07-29T12:15:53.258945Z",
     "iopub.status.busy": "2025-07-29T12:15:53.258525Z",
     "iopub.status.idle": "2025-07-29T12:15:53.294833Z",
     "shell.execute_reply": "2025-07-29T12:15:53.293815Z"
    },
    "papermill": {
     "duration": 0.056837,
     "end_time": "2025-07-29T12:15:53.296938",
     "exception": false,
     "start_time": "2025-07-29T12:15:53.240101",
     "status": "completed"
    },
    "tags": []
   },
   "outputs": [],
   "source": [
    "vocab_distilbert = tokenizer.get_vocab()\n",
    "\n",
    "vocab_distilbert_alpha = [word for word in vocab_distilbert if re.match(r'^[a-zA-Z]+$', word)]"
   ]
  },
  {
   "cell_type": "code",
   "execution_count": 22,
   "id": "8bbbc3ed",
   "metadata": {
    "execution": {
     "iopub.execute_input": "2025-07-29T12:15:53.333594Z",
     "iopub.status.busy": "2025-07-29T12:15:53.332930Z",
     "iopub.status.idle": "2025-07-29T12:15:53.347428Z",
     "shell.execute_reply": "2025-07-29T12:15:53.346403Z"
    },
    "papermill": {
     "duration": 0.034886,
     "end_time": "2025-07-29T12:15:53.349344",
     "exception": false,
     "start_time": "2025-07-29T12:15:53.314458",
     "status": "completed"
    },
    "tags": []
   },
   "outputs": [],
   "source": [
    "inv_vocab = {value: key for key, value in tokenizer.get_vocab().items()}"
   ]
  },
  {
   "cell_type": "code",
   "execution_count": 23,
   "id": "51b9e1ec",
   "metadata": {
    "execution": {
     "iopub.execute_input": "2025-07-29T12:15:53.385184Z",
     "iopub.status.busy": "2025-07-29T12:15:53.384839Z",
     "iopub.status.idle": "2025-07-29T12:15:53.401127Z",
     "shell.execute_reply": "2025-07-29T12:15:53.400133Z"
    },
    "papermill": {
     "duration": 0.036113,
     "end_time": "2025-07-29T12:15:53.403028",
     "exception": false,
     "start_time": "2025-07-29T12:15:53.366915",
     "status": "completed"
    },
    "tags": []
   },
   "outputs": [],
   "source": [
    "# Preprocessing train\n",
    "df_train[[\"Book\", \"Summary\"]] = df_train[[\"Book\", \"Summary\"]].fillna(\"\")\n",
    "df_train[\"full_text\"] = df_train[[\"Book\", \"Summary\"]].apply(lambda x: \" \".join(x).lower(), axis=1)\n",
    "df_train = df_train.rename(columns={\"Book\":\"Book_0\", \"Summary\":\"Summary_0\", \"Genre\":\"Genre_0\", \"Author\":\"Author_0\"})\n",
    "df_train = df_train[['Author_0', 'Book_0', 'Summary_0', 'Genre_0', 'full_text']]"
   ]
  },
  {
   "cell_type": "code",
   "execution_count": 24,
   "id": "c2f9d7a8",
   "metadata": {
    "execution": {
     "iopub.execute_input": "2025-07-29T12:15:53.438652Z",
     "iopub.status.busy": "2025-07-29T12:15:53.438310Z",
     "iopub.status.idle": "2025-07-29T12:15:53.472966Z",
     "shell.execute_reply": "2025-07-29T12:15:53.471889Z"
    },
    "papermill": {
     "duration": 0.055315,
     "end_time": "2025-07-29T12:15:53.475284",
     "exception": false,
     "start_time": "2025-07-29T12:15:53.419969",
     "status": "completed"
    },
    "tags": []
   },
   "outputs": [],
   "source": [
    "# Create tfidf dataframe\n",
    "df_train, feature_names = create_tfidf_df(df_input = df_train,\n",
    "                                          vocabulary=vocab_distilbert_alpha,\n",
    "                                          tokenizer=tokenizer, column='full_text')"
   ]
  },
  {
   "cell_type": "code",
   "execution_count": 25,
   "id": "2aa83e91",
   "metadata": {
    "execution": {
     "iopub.execute_input": "2025-07-29T12:15:53.510439Z",
     "iopub.status.busy": "2025-07-29T12:15:53.509692Z",
     "iopub.status.idle": "2025-07-29T12:15:53.514244Z",
     "shell.execute_reply": "2025-07-29T12:15:53.513131Z"
    },
    "papermill": {
     "duration": 0.023978,
     "end_time": "2025-07-29T12:15:53.516404",
     "exception": false,
     "start_time": "2025-07-29T12:15:53.492426",
     "status": "completed"
    },
    "tags": []
   },
   "outputs": [],
   "source": [
    "# Create undirected graph\n",
    "G2 = nx.Graph()"
   ]
  },
  {
   "cell_type": "code",
   "execution_count": 26,
   "id": "0096f15b",
   "metadata": {
    "execution": {
     "iopub.execute_input": "2025-07-29T12:15:53.556633Z",
     "iopub.status.busy": "2025-07-29T12:15:53.555743Z",
     "iopub.status.idle": "2025-07-29T12:15:53.584663Z",
     "shell.execute_reply": "2025-07-29T12:15:53.583808Z"
    },
    "papermill": {
     "duration": 0.048804,
     "end_time": "2025-07-29T12:15:53.586667",
     "exception": false,
     "start_time": "2025-07-29T12:15:53.537863",
     "status": "completed"
    },
    "tags": []
   },
   "outputs": [],
   "source": [
    "# Add nodes to graph\n",
    "G2 = add_nodes_edges_graph_tfidf(G2, df=df_train, features_names=feature_names,\n",
    "                                 author_weight=0.90,\n",
    "                                 author_c=0, id_title_c=1, label_c=3)"
   ]
  },
  {
   "cell_type": "markdown",
   "id": "e67ff6ff",
   "metadata": {
    "papermill": {
     "duration": 0.017094,
     "end_time": "2025-07-29T12:15:53.621397",
     "exception": false,
     "start_time": "2025-07-29T12:15:53.604303",
     "status": "completed"
    },
    "tags": []
   },
   "source": [
    "**Propagate label to df_new**"
   ]
  },
  {
   "cell_type": "markdown",
   "id": "61a793e0",
   "metadata": {
    "papermill": {
     "duration": 0.017203,
     "end_time": "2025-07-29T12:15:53.655349",
     "exception": false,
     "start_time": "2025-07-29T12:15:53.638146",
     "status": "completed"
    },
    "tags": []
   },
   "source": [
    "Preprocessing:"
   ]
  },
  {
   "cell_type": "code",
   "execution_count": 27,
   "id": "c329eb3b",
   "metadata": {
    "execution": {
     "iopub.execute_input": "2025-07-29T12:15:53.694672Z",
     "iopub.status.busy": "2025-07-29T12:15:53.693537Z",
     "iopub.status.idle": "2025-07-29T12:15:53.707004Z",
     "shell.execute_reply": "2025-07-29T12:15:53.705882Z"
    },
    "papermill": {
     "duration": 0.037525,
     "end_time": "2025-07-29T12:15:53.709660",
     "exception": false,
     "start_time": "2025-07-29T12:15:53.672135",
     "status": "completed"
    },
    "tags": []
   },
   "outputs": [],
   "source": [
    "df_new[[\"Book\", \"Summary\"]] = df_new[[\"Book\", \"Summary\"]].fillna(\"\")\n",
    "df_new[\"full_text\"] = df_new[[\"Book\", \"Summary\"]].apply(lambda x: \" \".join(x).lower(), axis=1)\n",
    "df_new = df_new.rename(columns={\"Book\": \"Book_0\", \"Summary\": \"Summary_0\",\n",
    "                                \"Genre\": \"Genre_0\", \"Author\": \"Author_0\"})\n",
    "df_new = df_new[['Author_0', 'Book_0', 'Summary_0', 'Genre_0', 'full_text']]"
   ]
  },
  {
   "cell_type": "code",
   "execution_count": 28,
   "id": "1b058986",
   "metadata": {
    "execution": {
     "iopub.execute_input": "2025-07-29T12:15:53.759786Z",
     "iopub.status.busy": "2025-07-29T12:15:53.759409Z",
     "iopub.status.idle": "2025-07-29T12:15:53.784248Z",
     "shell.execute_reply": "2025-07-29T12:15:53.783149Z"
    },
    "papermill": {
     "duration": 0.048586,
     "end_time": "2025-07-29T12:15:53.786582",
     "exception": false,
     "start_time": "2025-07-29T12:15:53.737996",
     "status": "completed"
    },
    "tags": []
   },
   "outputs": [],
   "source": [
    "df_new, feature_names_new = create_tfidf_df(df_input = df_new, tokenizer=tokenizer,\n",
    "                                            vocabulary=vocab_distilbert_alpha,\n",
    "                                            column='full_text')"
   ]
  },
  {
   "cell_type": "code",
   "execution_count": 29,
   "id": "871fa1d5",
   "metadata": {
    "execution": {
     "iopub.execute_input": "2025-07-29T12:15:53.824216Z",
     "iopub.status.busy": "2025-07-29T12:15:53.823485Z",
     "iopub.status.idle": "2025-07-29T12:15:53.841621Z",
     "shell.execute_reply": "2025-07-29T12:15:53.840642Z"
    },
    "papermill": {
     "duration": 0.038614,
     "end_time": "2025-07-29T12:15:53.843596",
     "exception": false,
     "start_time": "2025-07-29T12:15:53.804982",
     "status": "completed"
    },
    "tags": []
   },
   "outputs": [],
   "source": [
    "# Add test nodes to graph\n",
    "G3 = add_nodes_edges_graph_tfidf(G2, df=df_new, features_names=feature_names,\n",
    "                                 is_new=1,\n",
    "                                 author_weight=0.90,\n",
    "                                 author_c=0, id_title_c=1, label_c=3)"
   ]
  },
  {
   "cell_type": "code",
   "execution_count": 30,
   "id": "2553b0bf",
   "metadata": {
    "execution": {
     "iopub.execute_input": "2025-07-29T12:15:53.880398Z",
     "iopub.status.busy": "2025-07-29T12:15:53.879653Z",
     "iopub.status.idle": "2025-07-29T12:15:54.347622Z",
     "shell.execute_reply": "2025-07-29T12:15:54.346560Z"
    },
    "papermill": {
     "duration": 0.489297,
     "end_time": "2025-07-29T12:15:54.350291",
     "exception": false,
     "start_time": "2025-07-29T12:15:53.860994",
     "status": "completed"
    },
    "tags": []
   },
   "outputs": [
    {
     "data": {
      "image/png": "[encoded data removed]",
      "text/plain": [
       "<Figure size 640x480 with 1 Axes>"
      ]
     },
     "metadata": {},
     "output_type": "display_data"
    }
   ],
   "source": [
    "G = G3\n",
    "\n",
    "elarge = [(u, v) for (u, v, d) in G.edges(data=True) if d[\"weight\"] < 0.5]\n",
    "esmall = [(u, v) for (u, v, d) in G.edges(data=True) if d[\"weight\"] >= 0.5]\n",
    "#pos = nx.nx_agraph.graphviz_layout(G)\n",
    "pos = nx.spring_layout(G)\n",
    "# nodes\n",
    "nx.draw_networkx_nodes(G, pos, node_size=500, node_color='lightblue')\n",
    "# edges\n",
    "nx.draw_networkx_edges(G, pos, edgelist=elarge, width=2)\n",
    "nx.draw_networkx_edges(\n",
    "    G, pos, edgelist=esmall, width=1, alpha=0.5, edge_color=\"b\", style=\"dashed\"\n",
    ")\n",
    "\n",
    "# node labels\n",
    "nx.draw_networkx_labels(G, pos, font_size=7, font_family=\"sans-serif\")\n",
    "# edge weight labels\n",
    "#edge_labels = nx.get_edge_attributes(G, \"weight\")\n",
    "edge_labels = dict([((u,v,), f\"{d['weight']:.2f}\") for u,v,d in G.edges(data=True)])\n",
    "nx.draw_networkx_edge_labels(G, pos, edge_labels, font_size=6.5)\n",
    "\n",
    "ax = plt.gca()\n",
    "ax.margins(0.08)\n",
    "plt.axis(\"off\")\n",
    "plt.tight_layout()\n",
    "plt.show()"
   ]
  },
  {
   "cell_type": "code",
   "execution_count": 31,
   "id": "506b28cf",
   "metadata": {
    "execution": {
     "iopub.execute_input": "2025-07-29T12:15:54.390665Z",
     "iopub.status.busy": "2025-07-29T12:15:54.390322Z",
     "iopub.status.idle": "2025-07-29T12:15:54.403925Z",
     "shell.execute_reply": "2025-07-29T12:15:54.402841Z"
    },
    "papermill": {
     "duration": 0.036397,
     "end_time": "2025-07-29T12:15:54.406112",
     "exception": false,
     "start_time": "2025-07-29T12:15:54.369715",
     "status": "completed"
    },
    "tags": []
   },
   "outputs": [],
   "source": [
    "G3 = compute_labels_for_unlabeled_labeled_nodes(G3, distance_weight='weight', label_attr='label',\n",
    "                                                num_closest_labels=3)"
   ]
  },
  {
   "cell_type": "code",
   "execution_count": 32,
   "id": "abe98af6",
   "metadata": {
    "execution": {
     "iopub.execute_input": "2025-07-29T12:15:54.444549Z",
     "iopub.status.busy": "2025-07-29T12:15:54.444163Z",
     "iopub.status.idle": "2025-07-29T12:15:54.449488Z",
     "shell.execute_reply": "2025-07-29T12:15:54.448593Z"
    },
    "papermill": {
     "duration": 0.026939,
     "end_time": "2025-07-29T12:15:54.451358",
     "exception": false,
     "start_time": "2025-07-29T12:15:54.424419",
     "status": "completed"
    },
    "tags": []
   },
   "outputs": [],
   "source": [
    "nodes = nx.nodes(G3)\n",
    "titles = nx.get_node_attributes(G3, \"is_title\")\n",
    "labels = nx.get_node_attributes(G3, \"label\")\n",
    "labels_original = nx.get_node_attributes(G3, \"original_label\")\n",
    "edges = nx.edges(G3)\n",
    "edges_weights = nx.get_edge_attributes(G3, 'weight')"
   ]
  },
  {
   "cell_type": "code",
   "execution_count": 33,
   "id": "ba157bc8",
   "metadata": {
    "execution": {
     "iopub.execute_input": "2025-07-29T12:15:54.490425Z",
     "iopub.status.busy": "2025-07-29T12:15:54.490100Z",
     "iopub.status.idle": "2025-07-29T12:15:54.495383Z",
     "shell.execute_reply": "2025-07-29T12:15:54.494489Z"
    },
    "papermill": {
     "duration": 0.027389,
     "end_time": "2025-07-29T12:15:54.497323",
     "exception": false,
     "start_time": "2025-07-29T12:15:54.469934",
     "status": "completed"
    },
    "tags": []
   },
   "outputs": [],
   "source": [
    "book_nodes = [node for node in G3.nodes if G3.nodes[node].get('is_title') == 1]\n",
    "fuzzy_labels_nodes = [{book_node: labels[book_node]} for book_node in book_nodes]"
   ]
  },
  {
   "cell_type": "code",
   "execution_count": 34,
   "id": "eb461305",
   "metadata": {
    "execution": {
     "iopub.execute_input": "2025-07-29T12:15:54.535467Z",
     "iopub.status.busy": "2025-07-29T12:15:54.534760Z",
     "iopub.status.idle": "2025-07-29T12:15:54.540572Z",
     "shell.execute_reply": "2025-07-29T12:15:54.539595Z"
    },
    "papermill": {
     "duration": 0.025946,
     "end_time": "2025-07-29T12:15:54.542313",
     "exception": false,
     "start_time": "2025-07-29T12:15:54.516367",
     "status": "completed"
    },
    "tags": []
   },
   "outputs": [],
   "source": [
    "fuzzy_labels_distances = {}\n",
    "\n",
    "for item in fuzzy_labels_nodes:\n",
    "    for title, label_distances in item.items():\n",
    "        if title not in fuzzy_labels_distances:\n",
    "            fuzzy_labels_distances[title] = {}\n",
    "        for label_distance in label_distances:\n",
    "            for label, distance in label_distance.items():\n",
    "                # Aplicar la función de transformación\n",
    "                transformed_distance = transform_distance(distance)\n",
    "                fuzzy_labels_distances[title][label] = transformed_distance"
   ]
  },
  {
   "cell_type": "code",
   "execution_count": 35,
   "id": "c30f6505",
   "metadata": {
    "execution": {
     "iopub.execute_input": "2025-07-29T12:15:54.580019Z",
     "iopub.status.busy": "2025-07-29T12:15:54.579155Z",
     "iopub.status.idle": "2025-07-29T12:15:54.584021Z",
     "shell.execute_reply": "2025-07-29T12:15:54.583159Z"
    },
    "papermill": {
     "duration": 0.026031,
     "end_time": "2025-07-29T12:15:54.585950",
     "exception": false,
     "start_time": "2025-07-29T12:15:54.559919",
     "status": "completed"
    },
    "tags": []
   },
   "outputs": [],
   "source": [
    "unique_labels = ['Scify', 'Drama']\n",
    "result_matrix, ids_books = complete_matrix_with_zeros(fuzzy_labels_distances, unique_labels=unique_labels)\n",
    "y_labels = [value for value in labels_original.values()]"
   ]
  },
  {
   "cell_type": "markdown",
   "id": "54302d7c",
   "metadata": {
    "papermill": {
     "duration": 0.01944,
     "end_time": "2025-07-29T12:15:54.623564",
     "exception": false,
     "start_time": "2025-07-29T12:15:54.604124",
     "status": "completed"
    },
    "tags": []
   },
   "source": [
    "# Fuzzy Network"
   ]
  },
  {
   "cell_type": "code",
   "execution_count": 36,
   "id": "103dedde",
   "metadata": {
    "execution": {
     "iopub.execute_input": "2025-07-29T12:15:54.662073Z",
     "iopub.status.busy": "2025-07-29T12:15:54.661230Z",
     "iopub.status.idle": "2025-07-29T12:15:54.668348Z",
     "shell.execute_reply": "2025-07-29T12:15:54.667493Z"
    },
    "papermill": {
     "duration": 0.028818,
     "end_time": "2025-07-29T12:15:54.670335",
     "exception": false,
     "start_time": "2025-07-29T12:15:54.641517",
     "status": "completed"
    },
    "tags": []
   },
   "outputs": [
    {
     "data": {
      "text/plain": [
       "'\\nimport numpy as np\\nimport matplotlib.pyplot as plt\\nimport tensorflow as tf\\nfrom tensorflow.keras.layers import Layer, Input, Dense\\nfrom tensorflow.keras.models import Model\\n\\n# Generate synthetic data\\nnp.random.seed(0)\\nX = np.random.uniform(-1, 1, (100, 2))  # 100 samples, 2 features\\ny = X[:, 0]**2 + X[:, 1]**2 + np.random.normal(0, 0.1, 100)  # Quadratic function with noise\\n\\n# Split the data into training and testing sets\\ntrain_size = int(len(X) * 0.8)\\nX_train, X_test = X[:train_size], X[train_size:]\\ny_train, y_test = y[:train_size], y[train_size:]\\n\\n# Custom Fuzzy Layer\\nclass FuzzyLayer(Layer):\\n    def __init__(self, output_dim, **kwargs):\\n        super(FuzzyLayer, self).__init__(**kwargs)\\n        self.output_dim = output_dim\\n\\n    def build(self, input_shape):\\n        self.kernel = self.add_weight(name=\\'kernel\\', \\n                                      shape=(input_shape[1], self.output_dim),\\n                                      initializer=\\'uniform\\',\\n                                      trainable=True)\\n\\n    def call(self, x):\\n        return tf.math.sigmoid(tf.matmul(x, self.kernel))\\n\\n# Neural Network Model\\ninput_layer = Input(shape=(2,))\\nfuzzy_layer = FuzzyLayer(10)(input_layer)\\nhidden_layer = Dense(10, activation=\\'relu\\')(fuzzy_layer)\\noutput_layer = Dense(1)(hidden_layer)\\n\\nmodel = Model(inputs=input_layer, outputs=output_layer)\\nmodel.compile(optimizer=\\'adam\\', loss=\\'mean_squared_error\\')\\n\\n# Train the model\\nmodel.fit(X_train, y_train, epochs=2, batch_size=10, verbose=1)\\n\\n# Evaluate the model\\npredictions = model.predict(X_test)\\nmse = np.mean((y_test - predictions.flatten())**2)\\nprint(\"Mean Squared Error:\", mse)\\n\\n# Plotting results\\nplt.scatter(X_test[:,0], y_test, label=\\'True\\')\\nplt.scatter(X_test[:,0], predictions, label=\\'Predicted\\')\\nplt.legend()\\nplt.title(\"Fuzzy Neural Network Predictions\")\\nplt.show()\\n'"
      ]
     },
     "execution_count": 36,
     "metadata": {},
     "output_type": "execute_result"
    }
   ],
   "source": [
    "'''\n",
    "import numpy as np\n",
    "import matplotlib.pyplot as plt\n",
    "import tensorflow as tf\n",
    "from tensorflow.keras.layers import Layer, Input, Dense\n",
    "from tensorflow.keras.models import Model\n",
    "\n",
    "# Generate synthetic data\n",
    "np.random.seed(0)\n",
    "X = np.random.uniform(-1, 1, (100, 2))  # 100 samples, 2 features\n",
    "y = X[:, 0]**2 + X[:, 1]**2 + np.random.normal(0, 0.1, 100)  # Quadratic function with noise\n",
    "\n",
    "# Split the data into training and testing sets\n",
    "train_size = int(len(X) * 0.8)\n",
    "X_train, X_test = X[:train_size], X[train_size:]\n",
    "y_train, y_test = y[:train_size], y[train_size:]\n",
    "\n",
    "# Custom Fuzzy Layer\n",
    "class FuzzyLayer(Layer):\n",
    "    def __init__(self, output_dim, **kwargs):\n",
    "        super(FuzzyLayer, self).__init__(**kwargs)\n",
    "        self.output_dim = output_dim\n",
    "\n",
    "    def build(self, input_shape):\n",
    "        self.kernel = self.add_weight(name='kernel', \n",
    "                                      shape=(input_shape[1], self.output_dim),\n",
    "                                      initializer='uniform',\n",
    "                                      trainable=True)\n",
    "\n",
    "    def call(self, x):\n",
    "        return tf.math.sigmoid(tf.matmul(x, self.kernel))\n",
    "\n",
    "# Neural Network Model\n",
    "input_layer = Input(shape=(2,))\n",
    "fuzzy_layer = FuzzyLayer(10)(input_layer)\n",
    "hidden_layer = Dense(10, activation='relu')(fuzzy_layer)\n",
    "output_layer = Dense(1)(hidden_layer)\n",
    "\n",
    "model = Model(inputs=input_layer, outputs=output_layer)\n",
    "model.compile(optimizer='adam', loss='mean_squared_error')\n",
    "\n",
    "# Train the model\n",
    "model.fit(X_train, y_train, epochs=2, batch_size=10, verbose=1)\n",
    "\n",
    "# Evaluate the model\n",
    "predictions = model.predict(X_test)\n",
    "mse = np.mean((y_test - predictions.flatten())**2)\n",
    "print(\"Mean Squared Error:\", mse)\n",
    "\n",
    "# Plotting results\n",
    "plt.scatter(X_test[:,0], y_test, label='True')\n",
    "plt.scatter(X_test[:,0], predictions, label='Predicted')\n",
    "plt.legend()\n",
    "plt.title(\"Fuzzy Neural Network Predictions\")\n",
    "plt.show()\n",
    "'''"
   ]
  },
  {
   "cell_type": "markdown",
   "id": "d6294f61",
   "metadata": {
    "papermill": {
     "duration": 0.018462,
     "end_time": "2025-07-29T12:15:54.706906",
     "exception": false,
     "start_time": "2025-07-29T12:15:54.688444",
     "status": "completed"
    },
    "tags": []
   },
   "source": [
    "# 1. REAL DATA"
   ]
  },
  {
   "cell_type": "markdown",
   "id": "5f6f7af0",
   "metadata": {
    "papermill": {
     "duration": 0.018179,
     "end_time": "2025-07-29T12:15:54.743581",
     "exception": false,
     "start_time": "2025-07-29T12:15:54.725402",
     "status": "completed"
    },
    "tags": []
   },
   "source": [
    "# 0. Load data"
   ]
  },
  {
   "cell_type": "code",
   "execution_count": 37,
   "id": "7d5eb6fd",
   "metadata": {
    "execution": {
     "iopub.execute_input": "2025-07-29T12:15:54.781818Z",
     "iopub.status.busy": "2025-07-29T12:15:54.781418Z",
     "iopub.status.idle": "2025-07-29T12:15:56.205338Z",
     "shell.execute_reply": "2025-07-29T12:15:56.204269Z"
    },
    "papermill": {
     "duration": 1.445669,
     "end_time": "2025-07-29T12:15:56.207623",
     "exception": false,
     "start_time": "2025-07-29T12:15:54.761954",
     "status": "completed"
    },
    "tags": []
   },
   "outputs": [],
   "source": [
    "train = pd.read_csv('/kaggle/input/paperstask/train.csv', sep=\",\", header=0)\n",
    "val = pd.read_csv('/kaggle/input/paperstask/val.csv', sep=\",\", header=0)\n",
    "\n",
    "data = train"
   ]
  },
  {
   "cell_type": "markdown",
   "id": "ec79a6bd",
   "metadata": {
    "papermill": {
     "duration": 0.018776,
     "end_time": "2025-07-29T12:15:56.244856",
     "exception": false,
     "start_time": "2025-07-29T12:15:56.226080",
     "status": "completed"
    },
    "tags": []
   },
   "source": [
    "# 1. Data understanding"
   ]
  },
  {
   "cell_type": "code",
   "execution_count": 38,
   "id": "0df7d7b7",
   "metadata": {
    "execution": {
     "iopub.execute_input": "2025-07-29T12:15:56.283875Z",
     "iopub.status.busy": "2025-07-29T12:15:56.283475Z",
     "iopub.status.idle": "2025-07-29T12:15:57.724628Z",
     "shell.execute_reply": "2025-07-29T12:15:57.723654Z"
    },
    "papermill": {
     "duration": 1.46574,
     "end_time": "2025-07-29T12:15:57.729156",
     "exception": false,
     "start_time": "2025-07-29T12:15:56.263416",
     "status": "completed"
    },
    "tags": []
   },
   "outputs": [
    {
     "data": {
      "text/plain": [
       "<Axes: >"
      ]
     },
     "execution_count": 38,
     "metadata": {},
     "output_type": "execute_result"
    },
    {
     "data": {
      "image/png": "[encoded data removed]",
      "text/plain": [
       "<Figure size 2000x600 with 1 Axes>"
      ]
     },
     "metadata": {},
     "output_type": "display_data"
    }
   ],
   "source": [
    "data[\"label\"].hist(xrot=90, xlabelsize=8, figsize=(20, 6))"
   ]
  },
  {
   "cell_type": "code",
   "execution_count": 39,
   "id": "5580b24f",
   "metadata": {
    "execution": {
     "iopub.execute_input": "2025-07-29T12:15:57.773944Z",
     "iopub.status.busy": "2025-07-29T12:15:57.773587Z",
     "iopub.status.idle": "2025-07-29T12:15:58.131551Z",
     "shell.execute_reply": "2025-07-29T12:15:58.130528Z"
    },
    "papermill": {
     "duration": 0.382696,
     "end_time": "2025-07-29T12:15:58.133590",
     "exception": false,
     "start_time": "2025-07-29T12:15:57.750894",
     "status": "completed"
    },
    "tags": []
   },
   "outputs": [
    {
     "data": {
      "text/plain": [
       "array([   1,   86,  131,  186,  267,  307, 4868], dtype=int32)"
      ]
     },
     "execution_count": 39,
     "metadata": {},
     "output_type": "execute_result"
    }
   ],
   "source": [
    "np.percentile([len(str(abstract).split(\" \")) for abstract in data[\"abstract\"].values],\n",
    "              [0, 25, 50, 75, 95, 99, 100]).astype(np.int32)"
   ]
  },
  {
   "cell_type": "code",
   "execution_count": 40,
   "id": "c1ed927b",
   "metadata": {
    "execution": {
     "iopub.execute_input": "2025-07-29T12:15:58.180310Z",
     "iopub.status.busy": "2025-07-29T12:15:58.179939Z",
     "iopub.status.idle": "2025-07-29T12:15:58.226878Z",
     "shell.execute_reply": "2025-07-29T12:15:58.225841Z"
    },
    "papermill": {
     "duration": 0.072806,
     "end_time": "2025-07-29T12:15:58.228914",
     "exception": false,
     "start_time": "2025-07-29T12:15:58.156108",
     "status": "completed"
    },
    "tags": []
   },
   "outputs": [
    {
     "data": {
      "text/plain": [
       "array([ 1,  7, 10, 13, 18, 23, 40], dtype=int32)"
      ]
     },
     "execution_count": 40,
     "metadata": {},
     "output_type": "execute_result"
    }
   ],
   "source": [
    "np.percentile([len(str(title).split(\" \")) for title in data[\"title\"].values],\n",
    "              [0, 25, 50, 75, 95, 99, 100]).astype(np.int32)"
   ]
  },
  {
   "cell_type": "code",
   "execution_count": 41,
   "id": "ffa64177",
   "metadata": {
    "execution": {
     "iopub.execute_input": "2025-07-29T12:15:58.275323Z",
     "iopub.status.busy": "2025-07-29T12:15:58.274936Z",
     "iopub.status.idle": "2025-07-29T12:15:58.303882Z",
     "shell.execute_reply": "2025-07-29T12:15:58.302853Z"
    },
    "papermill": {
     "duration": 0.05462,
     "end_time": "2025-07-29T12:15:58.306012",
     "exception": false,
     "start_time": "2025-07-29T12:15:58.251392",
     "status": "completed"
    },
    "tags": []
   },
   "outputs": [
    {
     "data": {
      "text/plain": [
       "array([ 1,  1,  1,  4,  9, 16, 42], dtype=int32)"
      ]
     },
     "execution_count": 41,
     "metadata": {},
     "output_type": "execute_result"
    }
   ],
   "source": [
    "np.percentile([len(str(publisher).split(\" \")) for publisher in data[\"publisher\"].values],\n",
    "              [0, 25, 50, 75, 95, 99, 100]).astype(np.int32)"
   ]
  },
  {
   "cell_type": "markdown",
   "id": "3afc86a1",
   "metadata": {
    "papermill": {
     "duration": 0.02234,
     "end_time": "2025-07-29T12:15:58.351232",
     "exception": false,
     "start_time": "2025-07-29T12:15:58.328892",
     "status": "completed"
    },
    "tags": []
   },
   "source": [
    "# 2. Data preprocessing"
   ]
  },
  {
   "cell_type": "markdown",
   "id": "9a6a3c6f",
   "metadata": {
    "papermill": {
     "duration": 0.021992,
     "end_time": "2025-07-29T12:15:58.395445",
     "exception": false,
     "start_time": "2025-07-29T12:15:58.373453",
     "status": "completed"
    },
    "tags": []
   },
   "source": [
    "## Author"
   ]
  },
  {
   "cell_type": "code",
   "execution_count": 42,
   "id": "cc53dcc3",
   "metadata": {
    "execution": {
     "iopub.execute_input": "2025-07-29T12:15:58.442335Z",
     "iopub.status.busy": "2025-07-29T12:15:58.441507Z",
     "iopub.status.idle": "2025-07-29T12:15:58.448644Z",
     "shell.execute_reply": "2025-07-29T12:15:58.447651Z"
    },
    "papermill": {
     "duration": 0.033317,
     "end_time": "2025-07-29T12:15:58.450648",
     "exception": false,
     "start_time": "2025-07-29T12:15:58.417331",
     "status": "completed"
    },
    "tags": []
   },
   "outputs": [],
   "source": [
    "def clean(name: str) -> str:\n",
    "    name = name.replace('(1)', '')\n",
    "    name = name.replace('(2)', '')\n",
    "    name = name.replace('(3)', '')\n",
    "    name = name.strip()\n",
    "    name = \" \".join(name.split())\n",
    "    if name.startswith(\"[\"):\n",
    "        name = name[1:]\n",
    "    if name.startswith(\"'\"):\n",
    "        name = name[1:]\n",
    "    if name.endswith(\"'\"):\n",
    "        name = name[:-1]\n",
    "    if name.endswith(\"]\"):\n",
    "        name = name[:-1]\n",
    "    return name.strip()\n",
    "    \n",
    "def split(text) -> List[str]:\n",
    "    if isinstance(text, list):\n",
    "        return text\n",
    "    return [clean(name) for name in re.split(r\", and|,\", text)]"
   ]
  },
  {
   "cell_type": "code",
   "execution_count": 43,
   "id": "b872d581",
   "metadata": {
    "execution": {
     "iopub.execute_input": "2025-07-29T12:15:58.498716Z",
     "iopub.status.busy": "2025-07-29T12:15:58.498385Z",
     "iopub.status.idle": "2025-07-29T12:15:58.852929Z",
     "shell.execute_reply": "2025-07-29T12:15:58.851827Z"
    },
    "papermill": {
     "duration": 0.382027,
     "end_time": "2025-07-29T12:15:58.855393",
     "exception": false,
     "start_time": "2025-07-29T12:15:58.473366",
     "status": "completed"
    },
    "tags": []
   },
   "outputs": [],
   "source": [
    "data[\"author\"] = data[\"author\"].apply(lambda x: split(str(x)))"
   ]
  },
  {
   "cell_type": "code",
   "execution_count": 44,
   "id": "3d6a0f3d",
   "metadata": {
    "execution": {
     "iopub.execute_input": "2025-07-29T12:15:58.901679Z",
     "iopub.status.busy": "2025-07-29T12:15:58.901333Z",
     "iopub.status.idle": "2025-07-29T12:16:00.133066Z",
     "shell.execute_reply": "2025-07-29T12:16:00.132064Z"
    },
    "papermill": {
     "duration": 1.257561,
     "end_time": "2025-07-29T12:16:00.135246",
     "exception": false,
     "start_time": "2025-07-29T12:15:58.877685",
     "status": "completed"
    },
    "tags": []
   },
   "outputs": [
    {
     "data": {
      "text/plain": [
       "((186298,), (136255,))"
      ]
     },
     "execution_count": 44,
     "metadata": {},
     "output_type": "execute_result"
    }
   ],
   "source": [
    "np.concatenate(data[\"author\"].values).shape, np.unique(np.concatenate(data[\"author\"].values)).shape"
   ]
  },
  {
   "cell_type": "code",
   "execution_count": 45,
   "id": "6576f417",
   "metadata": {
    "execution": {
     "iopub.execute_input": "2025-07-29T12:16:00.182189Z",
     "iopub.status.busy": "2025-07-29T12:16:00.181844Z",
     "iopub.status.idle": "2025-07-29T12:16:00.186221Z",
     "shell.execute_reply": "2025-07-29T12:16:00.185214Z"
    },
    "papermill": {
     "duration": 0.030233,
     "end_time": "2025-07-29T12:16:00.188190",
     "exception": false,
     "start_time": "2025-07-29T12:16:00.157957",
     "status": "completed"
    },
    "tags": []
   },
   "outputs": [],
   "source": [
    "#data = data.sample(100, ignore_index=True)#.reset_index()"
   ]
  },
  {
   "cell_type": "markdown",
   "id": "f3c11135",
   "metadata": {
    "papermill": {
     "duration": 0.022557,
     "end_time": "2025-07-29T12:16:00.233960",
     "exception": false,
     "start_time": "2025-07-29T12:16:00.211403",
     "status": "completed"
    },
    "tags": []
   },
   "source": [
    "## Classes"
   ]
  },
  {
   "cell_type": "code",
   "execution_count": 46,
   "id": "eb5ce8f4",
   "metadata": {
    "execution": {
     "iopub.execute_input": "2025-07-29T12:16:00.281633Z",
     "iopub.status.busy": "2025-07-29T12:16:00.280633Z",
     "iopub.status.idle": "2025-07-29T12:16:00.310849Z",
     "shell.execute_reply": "2025-07-29T12:16:00.309850Z"
    },
    "papermill": {
     "duration": 0.056211,
     "end_time": "2025-07-29T12:16:00.312879",
     "exception": false,
     "start_time": "2025-07-29T12:16:00.256668",
     "status": "completed"
    },
    "tags": []
   },
   "outputs": [],
   "source": [
    "class2id = {c: i for i, c in enumerate(np.unique(data[\"label\"].values))}\n",
    "id2class = {value: key for key, value in class2id.items()}"
   ]
  },
  {
   "cell_type": "markdown",
   "id": "43462294",
   "metadata": {
    "papermill": {
     "duration": 0.022459,
     "end_time": "2025-07-29T12:16:00.358430",
     "exception": false,
     "start_time": "2025-07-29T12:16:00.335971",
     "status": "completed"
    },
    "tags": []
   },
   "source": [
    "## Train/test"
   ]
  },
  {
   "cell_type": "code",
   "execution_count": 47,
   "id": "d9b57446",
   "metadata": {
    "execution": {
     "iopub.execute_input": "2025-07-29T12:16:00.405666Z",
     "iopub.status.busy": "2025-07-29T12:16:00.405272Z",
     "iopub.status.idle": "2025-07-29T12:16:00.460287Z",
     "shell.execute_reply": "2025-07-29T12:16:00.459430Z"
    },
    "papermill": {
     "duration": 0.081335,
     "end_time": "2025-07-29T12:16:00.462624",
     "exception": false,
     "start_time": "2025-07-29T12:16:00.381289",
     "status": "completed"
    },
    "tags": []
   },
   "outputs": [],
   "source": [
    "idx_train, idx_test = train_test_split(range(len(data)), \n",
    "                                       test_size=0.3,\n",
    "                                       stratify=data[\"label\"].values,\n",
    "                                       random_state=999)"
   ]
  },
  {
   "cell_type": "code",
   "execution_count": 48,
   "id": "0866c65c",
   "metadata": {
    "execution": {
     "iopub.execute_input": "2025-07-29T12:16:00.509383Z",
     "iopub.status.busy": "2025-07-29T12:16:00.509029Z",
     "iopub.status.idle": "2025-07-29T12:16:00.562123Z",
     "shell.execute_reply": "2025-07-29T12:16:00.561259Z"
    },
    "papermill": {
     "duration": 0.079034,
     "end_time": "2025-07-29T12:16:00.564291",
     "exception": false,
     "start_time": "2025-07-29T12:16:00.485257",
     "status": "completed"
    },
    "tags": []
   },
   "outputs": [],
   "source": [
    "idx_train, idx_test = train_test_split(range(len(data)), \n",
    "                                       test_size=0.3,\n",
    "                                       stratify=data[\"label\"].values,\n",
    "                                       random_state=999)"
   ]
  },
  {
   "cell_type": "markdown",
   "id": "f4a69fd8",
   "metadata": {
    "papermill": {
     "duration": 0.022841,
     "end_time": "2025-07-29T12:16:00.609555",
     "exception": false,
     "start_time": "2025-07-29T12:16:00.586714",
     "status": "completed"
    },
    "tags": []
   },
   "source": [
    "## Class Weights"
   ]
  },
  {
   "cell_type": "code",
   "execution_count": 49,
   "id": "f3843776",
   "metadata": {
    "execution": {
     "iopub.execute_input": "2025-07-29T12:16:00.657865Z",
     "iopub.status.busy": "2025-07-29T12:16:00.657459Z",
     "iopub.status.idle": "2025-07-29T12:16:00.676609Z",
     "shell.execute_reply": "2025-07-29T12:16:00.675718Z"
    },
    "papermill": {
     "duration": 0.045196,
     "end_time": "2025-07-29T12:16:00.678880",
     "exception": false,
     "start_time": "2025-07-29T12:16:00.633684",
     "status": "completed"
    },
    "tags": []
   },
   "outputs": [],
   "source": [
    "data[\"label\"] = data[\"label\"].apply(lambda x: class2id[x])"
   ]
  },
  {
   "cell_type": "code",
   "execution_count": 50,
   "id": "43cf40d9",
   "metadata": {
    "execution": {
     "iopub.execute_input": "2025-07-29T12:16:00.726527Z",
     "iopub.status.busy": "2025-07-29T12:16:00.726164Z",
     "iopub.status.idle": "2025-07-29T12:16:00.732676Z",
     "shell.execute_reply": "2025-07-29T12:16:00.731731Z"
    },
    "papermill": {
     "duration": 0.033254,
     "end_time": "2025-07-29T12:16:00.734959",
     "exception": false,
     "start_time": "2025-07-29T12:16:00.701705",
     "status": "completed"
    },
    "tags": []
   },
   "outputs": [],
   "source": [
    "unique, counts = np.unique(data[\"label\"].values, return_counts=True)\n",
    "weights = dict(zip(unique, counts))"
   ]
  },
  {
   "cell_type": "code",
   "execution_count": 51,
   "id": "d9c8e13f",
   "metadata": {
    "execution": {
     "iopub.execute_input": "2025-07-29T12:16:00.783407Z",
     "iopub.status.busy": "2025-07-29T12:16:00.783043Z",
     "iopub.status.idle": "2025-07-29T12:16:00.789559Z",
     "shell.execute_reply": "2025-07-29T12:16:00.788633Z"
    },
    "papermill": {
     "duration": 0.031761,
     "end_time": "2025-07-29T12:16:00.791651",
     "exception": false,
     "start_time": "2025-07-29T12:16:00.759890",
     "status": "completed"
    },
    "tags": []
   },
   "outputs": [],
   "source": [
    "weights = {key: (1 - (value / np.sum(list(weights.values()))))\n",
    "           for key, value in weights.items()}"
   ]
  },
  {
   "cell_type": "code",
   "execution_count": 52,
   "id": "dbe713df",
   "metadata": {
    "execution": {
     "iopub.execute_input": "2025-07-29T12:16:00.837794Z",
     "iopub.status.busy": "2025-07-29T12:16:00.837093Z",
     "iopub.status.idle": "2025-07-29T12:16:00.849062Z",
     "shell.execute_reply": "2025-07-29T12:16:00.847924Z"
    },
    "papermill": {
     "duration": 0.037403,
     "end_time": "2025-07-29T12:16:00.851544",
     "exception": false,
     "start_time": "2025-07-29T12:16:00.814141",
     "status": "completed"
    },
    "tags": []
   },
   "outputs": [],
   "source": [
    "weights = {key: ((value - np.min(list(weights.values()))) / (np.max(list(weights.values())) - np.min(list(weights.values())))) + 1\n",
    "           for key, value in weights.items()}"
   ]
  },
  {
   "cell_type": "markdown",
   "id": "83d2d4a0",
   "metadata": {
    "papermill": {
     "duration": 0.023074,
     "end_time": "2025-07-29T12:16:00.899373",
     "exception": false,
     "start_time": "2025-07-29T12:16:00.876299",
     "status": "completed"
    },
    "tags": []
   },
   "source": [
    "## 3. Graphs"
   ]
  },
  {
   "cell_type": "markdown",
   "id": "d9b20f6c",
   "metadata": {
    "papermill": {
     "duration": 0.022796,
     "end_time": "2025-07-29T12:16:00.944816",
     "exception": false,
     "start_time": "2025-07-29T12:16:00.922020",
     "status": "completed"
    },
    "tags": []
   },
   "source": [
    "### 3.1 Preprocessing and graph creation"
   ]
  },
  {
   "cell_type": "code",
   "execution_count": 53,
   "id": "008331d6",
   "metadata": {
    "execution": {
     "iopub.execute_input": "2025-07-29T12:16:00.991709Z",
     "iopub.status.busy": "2025-07-29T12:16:00.991327Z",
     "iopub.status.idle": "2025-07-29T12:16:00.995800Z",
     "shell.execute_reply": "2025-07-29T12:16:00.994835Z"
    },
    "papermill": {
     "duration": 0.030225,
     "end_time": "2025-07-29T12:16:00.997836",
     "exception": false,
     "start_time": "2025-07-29T12:16:00.967611",
     "status": "completed"
    },
    "tags": []
   },
   "outputs": [],
   "source": [
    "df = data"
   ]
  },
  {
   "cell_type": "markdown",
   "id": "6fd7bf56",
   "metadata": {
    "execution": {
     "iopub.execute_input": "2024-01-09T17:36:18.072511Z",
     "iopub.status.busy": "2024-01-09T17:36:18.071920Z",
     "iopub.status.idle": "2024-01-09T17:36:18.092071Z",
     "shell.execute_reply": "2024-01-09T17:36:18.090246Z",
     "shell.execute_reply.started": "2024-01-09T17:36:18.072469Z"
    },
    "papermill": {
     "duration": 0.022168,
     "end_time": "2025-07-29T12:16:01.042495",
     "exception": false,
     "start_time": "2025-07-29T12:16:01.020327",
     "status": "completed"
    },
    "tags": []
   },
   "source": [
    "Explode authors"
   ]
  },
  {
   "cell_type": "code",
   "execution_count": 54,
   "id": "8f53926d",
   "metadata": {
    "execution": {
     "iopub.execute_input": "2025-07-29T12:16:01.088422Z",
     "iopub.status.busy": "2025-07-29T12:16:01.088051Z",
     "iopub.status.idle": "2025-07-29T12:16:01.219364Z",
     "shell.execute_reply": "2025-07-29T12:16:01.218239Z"
    },
    "papermill": {
     "duration": 0.156997,
     "end_time": "2025-07-29T12:16:01.221673",
     "exception": false,
     "start_time": "2025-07-29T12:16:01.064676",
     "status": "completed"
    },
    "tags": []
   },
   "outputs": [],
   "source": [
    "df = df.explode('author')"
   ]
  },
  {
   "cell_type": "code",
   "execution_count": 55,
   "id": "38c82ba8",
   "metadata": {
    "execution": {
     "iopub.execute_input": "2025-07-29T12:16:01.275084Z",
     "iopub.status.busy": "2025-07-29T12:16:01.274688Z",
     "iopub.status.idle": "2025-07-29T12:16:01.523628Z",
     "shell.execute_reply": "2025-07-29T12:16:01.522830Z"
    },
    "papermill": {
     "duration": 0.280196,
     "end_time": "2025-07-29T12:16:01.525730",
     "exception": false,
     "start_time": "2025-07-29T12:16:01.245534",
     "status": "completed"
    },
    "tags": []
   },
   "outputs": [],
   "source": [
    "df_train = df.loc[idx_train].reset_index() # Comentar reset_index\n",
    "df_test = df.loc[idx_test].reset_index() # Comentar reset_index"
   ]
  },
  {
   "cell_type": "markdown",
   "id": "de1d1bac",
   "metadata": {
    "papermill": {
     "duration": 0.022213,
     "end_time": "2025-07-29T12:16:01.570600",
     "exception": false,
     "start_time": "2025-07-29T12:16:01.548387",
     "status": "completed"
    },
    "tags": []
   },
   "source": [
    "### Author - Paper Graph"
   ]
  },
  {
   "cell_type": "code",
   "execution_count": 56,
   "id": "b516bb0c",
   "metadata": {
    "execution": {
     "iopub.execute_input": "2025-07-29T12:16:01.617139Z",
     "iopub.status.busy": "2025-07-29T12:16:01.616758Z",
     "iopub.status.idle": "2025-07-29T12:16:01.620967Z",
     "shell.execute_reply": "2025-07-29T12:16:01.620009Z"
    },
    "papermill": {
     "duration": 0.029615,
     "end_time": "2025-07-29T12:16:01.622931",
     "exception": false,
     "start_time": "2025-07-29T12:16:01.593316",
     "status": "completed"
    },
    "tags": []
   },
   "outputs": [],
   "source": [
    "# Crear un grafo no dirigido\n",
    "# G1 = nx.Graph()"
   ]
  },
  {
   "cell_type": "code",
   "execution_count": 57,
   "id": "a6a1ae0b",
   "metadata": {
    "execution": {
     "iopub.execute_input": "2025-07-29T12:16:01.671450Z",
     "iopub.status.busy": "2025-07-29T12:16:01.671064Z",
     "iopub.status.idle": "2025-07-29T12:16:01.676786Z",
     "shell.execute_reply": "2025-07-29T12:16:01.675961Z"
    },
    "papermill": {
     "duration": 0.031936,
     "end_time": "2025-07-29T12:16:01.678721",
     "exception": false,
     "start_time": "2025-07-29T12:16:01.646785",
     "status": "completed"
    },
    "tags": []
   },
   "outputs": [
    {
     "data": {
      "text/plain": [
       "\"\\nG1 = add_nodes_edges_graph(G=G1, df=df_train,\\n                           author_c='author', id_title_c='data_index', label_c='label',\\n                           weight=1)\\n\""
      ]
     },
     "execution_count": 57,
     "metadata": {},
     "output_type": "execute_result"
    }
   ],
   "source": [
    "'''\n",
    "G1 = add_nodes_edges_graph(G=G1, df=df_train,\n",
    "                           author_c='author', id_title_c='data_index', label_c='label',\n",
    "                           weight=1)\n",
    "'''"
   ]
  },
  {
   "cell_type": "code",
   "execution_count": 58,
   "id": "d26054e5",
   "metadata": {
    "execution": {
     "iopub.execute_input": "2025-07-29T12:16:01.725472Z",
     "iopub.status.busy": "2025-07-29T12:16:01.724509Z",
     "iopub.status.idle": "2025-07-29T12:16:01.729011Z",
     "shell.execute_reply": "2025-07-29T12:16:01.728052Z"
    },
    "papermill": {
     "duration": 0.030145,
     "end_time": "2025-07-29T12:16:01.731030",
     "exception": false,
     "start_time": "2025-07-29T12:16:01.700885",
     "status": "completed"
    },
    "tags": []
   },
   "outputs": [],
   "source": [
    "#df_test['label_propagated'] = None"
   ]
  },
  {
   "cell_type": "code",
   "execution_count": 59,
   "id": "4ac11818",
   "metadata": {
    "execution": {
     "iopub.execute_input": "2025-07-29T12:16:01.777975Z",
     "iopub.status.busy": "2025-07-29T12:16:01.776865Z",
     "iopub.status.idle": "2025-07-29T12:16:01.782098Z",
     "shell.execute_reply": "2025-07-29T12:16:01.780833Z"
    },
    "papermill": {
     "duration": 0.030651,
     "end_time": "2025-07-29T12:16:01.784159",
     "exception": false,
     "start_time": "2025-07-29T12:16:01.753508",
     "status": "completed"
    },
    "tags": []
   },
   "outputs": [],
   "source": [
    "#G1, df_test_propagated = propagate_label(G1, df_test, author_c='author', id_title_c='data_index', label_c='label_propagated')"
   ]
  },
  {
   "cell_type": "code",
   "execution_count": 60,
   "id": "4ff91dd0",
   "metadata": {
    "execution": {
     "iopub.execute_input": "2025-07-29T12:16:01.829316Z",
     "iopub.status.busy": "2025-07-29T12:16:01.828966Z",
     "iopub.status.idle": "2025-07-29T12:16:01.834826Z",
     "shell.execute_reply": "2025-07-29T12:16:01.833760Z"
    },
    "papermill": {
     "duration": 0.03038,
     "end_time": "2025-07-29T12:16:01.836688",
     "exception": false,
     "start_time": "2025-07-29T12:16:01.806308",
     "status": "completed"
    },
    "tags": []
   },
   "outputs": [
    {
     "data": {
      "text/plain": [
       "\"\\n# save graph object to file\\npickle.dump(G1, open('/kaggle/working/G1_author_paper.pickle', 'wb'))\\n\\n# load graph object from file\\n#G = pickle.load(open('/kaggle/working/dummy.pickle', 'rb'))\\n\\ndf_test_propagated.to_csv('/kaggle/working/df_test_g1.csv')\\n\""
      ]
     },
     "execution_count": 60,
     "metadata": {},
     "output_type": "execute_result"
    }
   ],
   "source": [
    "'''\n",
    "# save graph object to file\n",
    "pickle.dump(G1, open('/kaggle/working/G1_author_paper.pickle', 'wb'))\n",
    "\n",
    "# load graph object from file\n",
    "#G = pickle.load(open('/kaggle/working/dummy.pickle', 'rb'))\n",
    "\n",
    "df_test_propagated.to_csv('/kaggle/working/df_test_g1.csv')\n",
    "'''"
   ]
  },
  {
   "cell_type": "code",
   "execution_count": 61,
   "id": "f6ecad2a",
   "metadata": {
    "execution": {
     "iopub.execute_input": "2025-07-29T12:16:01.883477Z",
     "iopub.status.busy": "2025-07-29T12:16:01.882578Z",
     "iopub.status.idle": "2025-07-29T12:16:01.887019Z",
     "shell.execute_reply": "2025-07-29T12:16:01.886034Z"
    },
    "papermill": {
     "duration": 0.029931,
     "end_time": "2025-07-29T12:16:01.888896",
     "exception": false,
     "start_time": "2025-07-29T12:16:01.858965",
     "status": "completed"
    },
    "tags": []
   },
   "outputs": [],
   "source": [
    "# Read df_test -> implode and calculate categorical accuracy"
   ]
  },
  {
   "cell_type": "markdown",
   "id": "0123021b",
   "metadata": {
    "papermill": {
     "duration": 0.021997,
     "end_time": "2025-07-29T12:16:01.933616",
     "exception": false,
     "start_time": "2025-07-29T12:16:01.911619",
     "status": "completed"
    },
    "tags": []
   },
   "source": [
    "## tfidf"
   ]
  },
  {
   "cell_type": "code",
   "execution_count": 62,
   "id": "0358cf48",
   "metadata": {
    "execution": {
     "iopub.execute_input": "2025-07-29T12:16:01.980961Z",
     "iopub.status.busy": "2025-07-29T12:16:01.980579Z",
     "iopub.status.idle": "2025-07-29T12:16:01.986595Z",
     "shell.execute_reply": "2025-07-29T12:16:01.985709Z"
    },
    "papermill": {
     "duration": 0.032544,
     "end_time": "2025-07-29T12:16:01.988621",
     "exception": false,
     "start_time": "2025-07-29T12:16:01.956077",
     "status": "completed"
    },
    "tags": []
   },
   "outputs": [
    {
     "data": {
      "text/plain": [
       "'# Preprocessing train\\ndf_train[[\"title\", \"publisher\", \"abstract\"]] = df_train[[\"title\", \"publisher\", \"abstract\"]].fillna(\"\")\\ndf_train[\"full_text\"] = df_train[[\"title\", \"publisher\", \"abstract\"]].apply(lambda x: \" \".join(x), axis=1)\\ndf_train = df_train.rename(columns={\"title\": \"title_0\", \"publisher\": \"publisher_0\",\\n                                    \"abstract\": \"abstract_0\", \"author\": \"author_0\", \"label\": \"label_0\",\\n                                    \"index\": \"index_0\", \"doi\": \"doi_0\"})\\ndf_train = df_train[[\\'author_0\\', \\'title_0\\', \\'index_0\\', \\'label_0\\', \\'full_text\\']]'"
      ]
     },
     "execution_count": 62,
     "metadata": {},
     "output_type": "execute_result"
    }
   ],
   "source": [
    "'''# Preprocessing train\n",
    "df_train[[\"title\", \"publisher\", \"abstract\"]] = df_train[[\"title\", \"publisher\", \"abstract\"]].fillna(\"\")\n",
    "df_train[\"full_text\"] = df_train[[\"title\", \"publisher\", \"abstract\"]].apply(lambda x: \" \".join(x), axis=1)\n",
    "df_train = df_train.rename(columns={\"title\": \"title_0\", \"publisher\": \"publisher_0\",\n",
    "                                    \"abstract\": \"abstract_0\", \"author\": \"author_0\", \"label\": \"label_0\",\n",
    "                                    \"index\": \"index_0\", \"doi\": \"doi_0\"})\n",
    "df_train = df_train[['author_0', 'title_0', 'index_0', 'label_0', 'full_text']]'''"
   ]
  },
  {
   "cell_type": "code",
   "execution_count": 63,
   "id": "477ff652",
   "metadata": {
    "execution": {
     "iopub.execute_input": "2025-07-29T12:16:02.035837Z",
     "iopub.status.busy": "2025-07-29T12:16:02.034931Z",
     "iopub.status.idle": "2025-07-29T12:16:02.041484Z",
     "shell.execute_reply": "2025-07-29T12:16:02.040561Z"
    },
    "papermill": {
     "duration": 0.032277,
     "end_time": "2025-07-29T12:16:02.043438",
     "exception": false,
     "start_time": "2025-07-29T12:16:02.011161",
     "status": "completed"
    },
    "tags": []
   },
   "outputs": [
    {
     "data": {
      "text/plain": [
       "'# Preprocessing train\\ndf_test[[\"title\", \"publisher\", \"abstract\"]] = df_test[[\"title\", \"publisher\", \"abstract\"]].fillna(\"\")\\ndf_test[\"full_text\"] = df_test[[\"title\", \"publisher\", \"abstract\"]].apply(lambda x: \" \".join(x), axis=1)\\ndf_test[\"label_test\"] = None\\ndf_test = df_test.rename(columns={\"title\": \"title_0\", \"publisher\": \"publisher_0\",\\n                                  \"abstract\": \"abstract_0\", \"author\": \"author_0\", \"label\": \"label_0\",\\n                                  \"index\": \"index_0\", \"doi\": \"doi_0\"})\\ndf_test = df_test[[\\'author_0\\', \\'title_0\\', \\'index_0\\', \\'label_0\\', \\'full_text\\']]'"
      ]
     },
     "execution_count": 63,
     "metadata": {},
     "output_type": "execute_result"
    }
   ],
   "source": [
    "'''# Preprocessing train\n",
    "df_test[[\"title\", \"publisher\", \"abstract\"]] = df_test[[\"title\", \"publisher\", \"abstract\"]].fillna(\"\")\n",
    "df_test[\"full_text\"] = df_test[[\"title\", \"publisher\", \"abstract\"]].apply(lambda x: \" \".join(x), axis=1)\n",
    "df_test[\"label_test\"] = None\n",
    "df_test = df_test.rename(columns={\"title\": \"title_0\", \"publisher\": \"publisher_0\",\n",
    "                                  \"abstract\": \"abstract_0\", \"author\": \"author_0\", \"label\": \"label_0\",\n",
    "                                  \"index\": \"index_0\", \"doi\": \"doi_0\"})\n",
    "df_test = df_test[['author_0', 'title_0', 'index_0', 'label_0', 'full_text']]'''"
   ]
  },
  {
   "cell_type": "code",
   "execution_count": 64,
   "id": "dc51d5f5",
   "metadata": {
    "collapsed": true,
    "execution": {
     "iopub.execute_input": "2025-07-29T12:16:02.089987Z",
     "iopub.status.busy": "2025-07-29T12:16:02.089209Z",
     "iopub.status.idle": "2025-07-29T12:16:02.095336Z",
     "shell.execute_reply": "2025-07-29T12:16:02.094377Z"
    },
    "jupyter": {
     "outputs_hidden": true
    },
    "papermill": {
     "duration": 0.031889,
     "end_time": "2025-07-29T12:16:02.097262",
     "exception": false,
     "start_time": "2025-07-29T12:16:02.065373",
     "status": "completed"
    },
    "tags": []
   },
   "outputs": [
    {
     "data": {
      "text/plain": [
       "\"\\n# Create tfidf dataframe train\\ndf_train, feature_names  = create_tfidf_df(df_input = df_train,\\n                                           vocabulary=vocab_distilbert_alpha,\\n                                           tokenizer=tokenizer, column='full_text')\\n\""
      ]
     },
     "execution_count": 64,
     "metadata": {},
     "output_type": "execute_result"
    }
   ],
   "source": [
    "'''\n",
    "# Create tfidf dataframe train\n",
    "df_train, feature_names  = create_tfidf_df(df_input = df_train,\n",
    "                                           vocabulary=vocab_distilbert_alpha,\n",
    "                                           tokenizer=tokenizer, column='full_text')\n",
    "'''"
   ]
  },
  {
   "cell_type": "code",
   "execution_count": 65,
   "id": "e5e4f978",
   "metadata": {
    "execution": {
     "iopub.execute_input": "2025-07-29T12:16:02.144384Z",
     "iopub.status.busy": "2025-07-29T12:16:02.143611Z",
     "iopub.status.idle": "2025-07-29T12:16:02.148741Z",
     "shell.execute_reply": "2025-07-29T12:16:02.147810Z"
    },
    "papermill": {
     "duration": 0.030815,
     "end_time": "2025-07-29T12:16:02.150509",
     "exception": false,
     "start_time": "2025-07-29T12:16:02.119694",
     "status": "completed"
    },
    "tags": []
   },
   "outputs": [],
   "source": [
    "#saving array\n",
    "#np.save('df_train',df_train)"
   ]
  },
  {
   "cell_type": "code",
   "execution_count": 66,
   "id": "2304aa0b",
   "metadata": {
    "execution": {
     "iopub.execute_input": "2025-07-29T12:16:02.198308Z",
     "iopub.status.busy": "2025-07-29T12:16:02.197240Z",
     "iopub.status.idle": "2025-07-29T12:16:02.201946Z",
     "shell.execute_reply": "2025-07-29T12:16:02.201088Z"
    },
    "papermill": {
     "duration": 0.030424,
     "end_time": "2025-07-29T12:16:02.203667",
     "exception": false,
     "start_time": "2025-07-29T12:16:02.173243",
     "status": "completed"
    },
    "tags": []
   },
   "outputs": [],
   "source": [
    "#df_train.to_csv('/kaggle/working/df_train_tfidf.csv')"
   ]
  },
  {
   "cell_type": "code",
   "execution_count": 67,
   "id": "d4edfb8d",
   "metadata": {
    "execution": {
     "iopub.execute_input": "2025-07-29T12:16:02.250976Z",
     "iopub.status.busy": "2025-07-29T12:16:02.250589Z",
     "iopub.status.idle": "2025-07-29T12:16:02.256644Z",
     "shell.execute_reply": "2025-07-29T12:16:02.255789Z"
    },
    "papermill": {
     "duration": 0.032098,
     "end_time": "2025-07-29T12:16:02.258607",
     "exception": false,
     "start_time": "2025-07-29T12:16:02.226509",
     "status": "completed"
    },
    "tags": []
   },
   "outputs": [
    {
     "data": {
      "text/plain": [
       "\"# Create tfidf dataframe test\\ndf_test, feature_names = create_tfidf_df(df_input = df_test,\\n                                         vocabulary=vocab_distilbert_alpha,\\n                                         tokenizer=tokenizer, column='full_text')\""
      ]
     },
     "execution_count": 67,
     "metadata": {},
     "output_type": "execute_result"
    }
   ],
   "source": [
    "'''# Create tfidf dataframe test\n",
    "df_test, feature_names = create_tfidf_df(df_input = df_test,\n",
    "                                         vocabulary=vocab_distilbert_alpha,\n",
    "                                         tokenizer=tokenizer, column='full_text')'''"
   ]
  },
  {
   "cell_type": "code",
   "execution_count": 68,
   "id": "f9c043e8",
   "metadata": {
    "execution": {
     "iopub.execute_input": "2025-07-29T12:16:02.306531Z",
     "iopub.status.busy": "2025-07-29T12:16:02.305655Z",
     "iopub.status.idle": "2025-07-29T12:16:02.311670Z",
     "shell.execute_reply": "2025-07-29T12:16:02.310733Z"
    },
    "papermill": {
     "duration": 0.032067,
     "end_time": "2025-07-29T12:16:02.313441",
     "exception": false,
     "start_time": "2025-07-29T12:16:02.281374",
     "status": "completed"
    },
    "tags": []
   },
   "outputs": [
    {
     "data": {
      "text/plain": [
       "\"#saving array\\n# np.save('df_test', df_test)\\n\\n#df_test.to_csv('/kaggle/working/df_test_tfidf.csv')\""
      ]
     },
     "execution_count": 68,
     "metadata": {},
     "output_type": "execute_result"
    }
   ],
   "source": [
    "'''#saving array\n",
    "# np.save('df_test', df_test)\n",
    "\n",
    "#df_test.to_csv('/kaggle/working/df_test_tfidf.csv')'''"
   ]
  },
  {
   "cell_type": "code",
   "execution_count": 69,
   "id": "46df05a7",
   "metadata": {
    "execution": {
     "iopub.execute_input": "2025-07-29T12:16:02.361731Z",
     "iopub.status.busy": "2025-07-29T12:16:02.360770Z",
     "iopub.status.idle": "2025-07-29T12:16:02.366942Z",
     "shell.execute_reply": "2025-07-29T12:16:02.365957Z"
    },
    "papermill": {
     "duration": 0.032264,
     "end_time": "2025-07-29T12:16:02.368678",
     "exception": false,
     "start_time": "2025-07-29T12:16:02.336414",
     "status": "completed"
    },
    "tags": []
   },
   "outputs": [
    {
     "data": {
      "text/plain": [
       "'# Create undirected graph\\nG2 = nx.Graph()'"
      ]
     },
     "execution_count": 69,
     "metadata": {},
     "output_type": "execute_result"
    }
   ],
   "source": [
    "'''# Create undirected graph\n",
    "G2 = nx.Graph()'''"
   ]
  },
  {
   "cell_type": "code",
   "execution_count": 70,
   "id": "42d5353e",
   "metadata": {
    "execution": {
     "iopub.execute_input": "2025-07-29T12:16:02.415910Z",
     "iopub.status.busy": "2025-07-29T12:16:02.415511Z",
     "iopub.status.idle": "2025-07-29T12:16:02.421532Z",
     "shell.execute_reply": "2025-07-29T12:16:02.420528Z"
    },
    "papermill": {
     "duration": 0.03215,
     "end_time": "2025-07-29T12:16:02.423614",
     "exception": false,
     "start_time": "2025-07-29T12:16:02.391464",
     "status": "completed"
    },
    "tags": []
   },
   "outputs": [
    {
     "data": {
      "text/plain": [
       "\"# Add nodes to graph\\nG2 = add_nodes_edges_graph_tfidf(G2, df=df_train, features_names=feature_names,\\n                                 is_new=None, alpha_word_weight=2,\\n                                 author_weight=0.90, \\n                                 #author_c='author_0', id_title_c='data_index', label_c='label_0')\\n                                 author_c=0, id_title_c=2, label_c=3)\""
      ]
     },
     "execution_count": 70,
     "metadata": {},
     "output_type": "execute_result"
    }
   ],
   "source": [
    "'''# Add nodes to graph\n",
    "G2 = add_nodes_edges_graph_tfidf(G2, df=df_train, features_names=feature_names,\n",
    "                                 is_new=None, alpha_word_weight=2,\n",
    "                                 author_weight=0.90, \n",
    "                                 #author_c='author_0', id_title_c='data_index', label_c='label_0')\n",
    "                                 author_c=0, id_title_c=2, label_c=3)'''"
   ]
  },
  {
   "cell_type": "code",
   "execution_count": 71,
   "id": "ca2baef0",
   "metadata": {
    "execution": {
     "iopub.execute_input": "2025-07-29T12:16:02.470588Z",
     "iopub.status.busy": "2025-07-29T12:16:02.470217Z",
     "iopub.status.idle": "2025-07-29T12:16:02.476247Z",
     "shell.execute_reply": "2025-07-29T12:16:02.475307Z"
    },
    "papermill": {
     "duration": 0.032269,
     "end_time": "2025-07-29T12:16:02.478326",
     "exception": false,
     "start_time": "2025-07-29T12:16:02.446057",
     "status": "completed"
    },
    "tags": []
   },
   "outputs": [
    {
     "data": {
      "text/plain": [
       "\"# Add test nodes to graph\\nG3 = add_nodes_edges_graph_tfidf(G2, df=df_test, features_names=feature_names,\\n                                 author_weight=0.90, is_new=1,\\n                                 #author_c='author_0', id_title_c='data_index', label_c='label_0')\\n                                 author_c=0, id_title_c=2, label_c=3)\""
      ]
     },
     "execution_count": 71,
     "metadata": {},
     "output_type": "execute_result"
    }
   ],
   "source": [
    "'''# Add test nodes to graph\n",
    "G3 = add_nodes_edges_graph_tfidf(G2, df=df_test, features_names=feature_names,\n",
    "                                 author_weight=0.90, is_new=1,\n",
    "                                 #author_c='author_0', id_title_c='data_index', label_c='label_0')\n",
    "                                 author_c=0, id_title_c=2, label_c=3)'''"
   ]
  },
  {
   "cell_type": "code",
   "execution_count": 72,
   "id": "993aa20d",
   "metadata": {
    "execution": {
     "iopub.execute_input": "2025-07-29T12:16:02.525917Z",
     "iopub.status.busy": "2025-07-29T12:16:02.525501Z",
     "iopub.status.idle": "2025-07-29T12:16:02.531070Z",
     "shell.execute_reply": "2025-07-29T12:16:02.530207Z"
    },
    "papermill": {
     "duration": 0.031633,
     "end_time": "2025-07-29T12:16:02.533063",
     "exception": false,
     "start_time": "2025-07-29T12:16:02.501430",
     "status": "completed"
    },
    "tags": []
   },
   "outputs": [
    {
     "data": {
      "text/plain": [
       "\"G4 = compute_labels_for_unlabeled_labeled_nodes(G3, distance_weight='weight', label_attr='label',\\n                                                num_closest_labels=100)\""
      ]
     },
     "execution_count": 72,
     "metadata": {},
     "output_type": "execute_result"
    }
   ],
   "source": [
    "'''G4 = compute_labels_for_unlabeled_labeled_nodes(G3, distance_weight='weight', label_attr='label',\n",
    "                                                num_closest_labels=100)'''"
   ]
  },
  {
   "cell_type": "code",
   "execution_count": 73,
   "id": "9250c1e8",
   "metadata": {
    "collapsed": true,
    "execution": {
     "iopub.execute_input": "2025-07-29T12:16:02.580718Z",
     "iopub.status.busy": "2025-07-29T12:16:02.580364Z",
     "iopub.status.idle": "2025-07-29T12:16:02.586402Z",
     "shell.execute_reply": "2025-07-29T12:16:02.585429Z"
    },
    "jupyter": {
     "outputs_hidden": true
    },
    "papermill": {
     "duration": 0.032154,
     "end_time": "2025-07-29T12:16:02.588238",
     "exception": false,
     "start_time": "2025-07-29T12:16:02.556084",
     "status": "completed"
    },
    "tags": []
   },
   "outputs": [
    {
     "data": {
      "text/plain": [
       "\"# save graph object to file\\npickle.dump(G4, open('/kaggle/working/G4_tfidf.pickle', 'wb'))\\n\\n# load graph object from file\\n#G = pickle.load(open('/kaggle/working/dummy.pickle', 'rb'))\""
      ]
     },
     "execution_count": 73,
     "metadata": {},
     "output_type": "execute_result"
    }
   ],
   "source": [
    "'''# save graph object to file\n",
    "pickle.dump(G4, open('/kaggle/working/G4_tfidf.pickle', 'wb'))\n",
    "\n",
    "# load graph object from file\n",
    "#G = pickle.load(open('/kaggle/working/dummy.pickle', 'rb'))'''"
   ]
  },
  {
   "cell_type": "code",
   "execution_count": 74,
   "id": "ed0007ac",
   "metadata": {
    "execution": {
     "iopub.execute_input": "2025-07-29T12:16:02.637573Z",
     "iopub.status.busy": "2025-07-29T12:16:02.636883Z",
     "iopub.status.idle": "2025-07-29T12:16:02.643161Z",
     "shell.execute_reply": "2025-07-29T12:16:02.642067Z"
    },
    "papermill": {
     "duration": 0.034072,
     "end_time": "2025-07-29T12:16:02.645417",
     "exception": false,
     "start_time": "2025-07-29T12:16:02.611345",
     "status": "completed"
    },
    "tags": []
   },
   "outputs": [
    {
     "data": {
      "text/plain": [
       "'nodes = nx.nodes(G4)\\ntitles = nx.get_node_attributes(G4, \"is_title\")\\nlabels = nx.get_node_attributes(G4, \"label\")\\nlabels_original = nx.get_node_attributes(G4, \"original_label\")\\nedges = nx.edges(G4)\\nedges_weights = nx.get_edge_attributes(G4, \\'weight\\')'"
      ]
     },
     "execution_count": 74,
     "metadata": {},
     "output_type": "execute_result"
    }
   ],
   "source": [
    "'''nodes = nx.nodes(G4)\n",
    "titles = nx.get_node_attributes(G4, \"is_title\")\n",
    "labels = nx.get_node_attributes(G4, \"label\")\n",
    "labels_original = nx.get_node_attributes(G4, \"original_label\")\n",
    "edges = nx.edges(G4)\n",
    "edges_weights = nx.get_edge_attributes(G4, 'weight')'''"
   ]
  },
  {
   "cell_type": "code",
   "execution_count": 75,
   "id": "ef755eac",
   "metadata": {
    "execution": {
     "iopub.execute_input": "2025-07-29T12:16:02.694223Z",
     "iopub.status.busy": "2025-07-29T12:16:02.693891Z",
     "iopub.status.idle": "2025-07-29T12:16:02.699853Z",
     "shell.execute_reply": "2025-07-29T12:16:02.698920Z"
    },
    "papermill": {
     "duration": 0.032632,
     "end_time": "2025-07-29T12:16:02.701829",
     "exception": false,
     "start_time": "2025-07-29T12:16:02.669197",
     "status": "completed"
    },
    "tags": []
   },
   "outputs": [
    {
     "data": {
      "text/plain": [
       "\"book_nodes = [node for node in G4.nodes if G4.nodes[node].get('is_title') == 1 and G4.nodes[node]]\\nfuzzy_labels_nodes = [{book_node: labels[book_node]} for book_node in book_nodes]\""
      ]
     },
     "execution_count": 75,
     "metadata": {},
     "output_type": "execute_result"
    }
   ],
   "source": [
    "'''book_nodes = [node for node in G4.nodes if G4.nodes[node].get('is_title') == 1 and G4.nodes[node]]\n",
    "fuzzy_labels_nodes = [{book_node: labels[book_node]} for book_node in book_nodes]'''"
   ]
  },
  {
   "cell_type": "code",
   "execution_count": 76,
   "id": "4bc8d674",
   "metadata": {
    "execution": {
     "iopub.execute_input": "2025-07-29T12:16:02.749797Z",
     "iopub.status.busy": "2025-07-29T12:16:02.749396Z",
     "iopub.status.idle": "2025-07-29T12:16:02.755547Z",
     "shell.execute_reply": "2025-07-29T12:16:02.754591Z"
    },
    "papermill": {
     "duration": 0.032608,
     "end_time": "2025-07-29T12:16:02.757411",
     "exception": false,
     "start_time": "2025-07-29T12:16:02.724803",
     "status": "completed"
    },
    "tags": []
   },
   "outputs": [
    {
     "data": {
      "text/plain": [
       "'fuzzy_labels_distances = {}\\n\\nfor item in fuzzy_labels_nodes:\\n    for title, label_distances in item.items():\\n        if title not in fuzzy_labels_distances:\\n            fuzzy_labels_distances[title] = {}\\n        for label_distance in label_distances:\\n            for label, distance in label_distance.items():\\n                # Aplicar la función de transformación\\n                transformed_distance = transform_distance(distance)\\n                fuzzy_labels_distances[title][label] = transformed_distance'"
      ]
     },
     "execution_count": 76,
     "metadata": {},
     "output_type": "execute_result"
    }
   ],
   "source": [
    "'''fuzzy_labels_distances = {}\n",
    "\n",
    "for item in fuzzy_labels_nodes:\n",
    "    for title, label_distances in item.items():\n",
    "        if title not in fuzzy_labels_distances:\n",
    "            fuzzy_labels_distances[title] = {}\n",
    "        for label_distance in label_distances:\n",
    "            for label, distance in label_distance.items():\n",
    "                # Aplicar la función de transformación\n",
    "                transformed_distance = transform_distance(distance)\n",
    "                fuzzy_labels_distances[title][label] = transformed_distance'''"
   ]
  },
  {
   "cell_type": "code",
   "execution_count": 77,
   "id": "d115a8db",
   "metadata": {
    "execution": {
     "iopub.execute_input": "2025-07-29T12:16:02.806510Z",
     "iopub.status.busy": "2025-07-29T12:16:02.805602Z",
     "iopub.status.idle": "2025-07-29T12:16:02.811829Z",
     "shell.execute_reply": "2025-07-29T12:16:02.810655Z"
    },
    "papermill": {
     "duration": 0.033059,
     "end_time": "2025-07-29T12:16:02.813732",
     "exception": false,
     "start_time": "2025-07-29T12:16:02.780673",
     "status": "completed"
    },
    "tags": []
   },
   "outputs": [
    {
     "data": {
      "text/plain": [
       "'result_matrix, ids_books = complete_matrix_with_zeros(fuzzy_labels_distances, unique_labels=list(unique))\\ny_labels = [value for value in labels_original.values()]'"
      ]
     },
     "execution_count": 77,
     "metadata": {},
     "output_type": "execute_result"
    }
   ],
   "source": [
    "'''result_matrix, ids_books = complete_matrix_with_zeros(fuzzy_labels_distances, unique_labels=list(unique))\n",
    "y_labels = [value for value in labels_original.values()]'''"
   ]
  }
 ],
 "metadata": {
  "kaggle": {
   "accelerator": "gpu",
   "dataSources": [
    {
     "datasetId": 4324168,
     "sourceId": 7430738,
     "sourceType": "datasetVersion"
    }
   ],
   "dockerImageVersionId": 30635,
   "isGpuEnabled": true,
   "isInternetEnabled": true,
   "language": "python",
   "sourceType": "notebook"
  },
  "kernelspec": {
   "display_name": "Python 3",
   "language": "python",
   "name": "python3"
  },
  "language_info": {
   "codemirror_mode": {
    "name": "ipython",
    "version": 3
   },
   "file_extension": ".py",
   "mimetype": "text/x-python",
   "name": "python",
   "nbconvert_exporter": "python",
   "pygments_lexer": "ipython3",
   "version": "3.10.12"
  },
  "papermill": {
   "default_parameters": {},
   "duration": 38.710646,
   "end_time": "2025-07-29T12:16:06.203217",
   "environment_variables": {},
   "exception": null,
   "input_path": "__notebook__.ipynb",
   "output_path": "__notebook__.ipynb",
   "parameters": {},
   "start_time": "2025-07-29T12:15:27.492571",
   "version": "2.4.0"
  },
  "widgets": {
   "application/vnd.jupyter.widget-state+json": {
    "state": {
     "133ede70d5a649fe8532e122ae628994": {
      "model_module": "@jupyter-widgets/base",
      "model_module_version": "1.2.0",
      "model_name": "LayoutModel",
      "state": {
       "_model_module": "@jupyter-widgets/base",
       "_model_module_version": "1.2.0",
       "_model_name": "LayoutModel",
       "_view_count": null,
       "_view_module": "@jupyter-widgets/base",
       "_view_module_version": "1.2.0",
       "_view_name": "LayoutView",
       "align_content": null,
       "align_items": null,
       "align_self": null,
       "border": null,
       "bottom": null,
       "display": null,
       "flex": null,
       "flex_flow": null,
       "grid_area": null,
       "grid_auto_columns": null,
       "grid_auto_flow": null,
       "grid_auto_rows": null,
       "grid_column": null,
       "grid_gap": null,
       "grid_row": null,
       "grid_template_areas": null,
       "grid_template_columns": null,
       "grid_template_rows": null,
       "height": null,
       "justify_content": null,
       "justify_items": null,
       "left": null,
       "margin": null,
       "max_height": null,
       "max_width": null,
       "min_height": null,
       "min_width": null,
       "object_fit": null,
       "object_position": null,
       "order": null,
       "overflow": null,
       "overflow_x": null,
       "overflow_y": null,
       "padding": null,
       "right": null,
       "top": null,
       "visibility": null,
       "width": null
      }
     },
     "1849800d02f4436e8c500749951ce0a9": {
      "model_module": "@jupyter-widgets/base",
      "model_module_version": "1.2.0",
      "model_name": "LayoutModel",
      "state": {
       "_model_module": "@jupyter-widgets/base",
       "_model_module_version": "1.2.0",
       "_model_name": "LayoutModel",
       "_view_count": null,
       "_view_module": "@jupyter-widgets/base",
       "_view_module_version": "1.2.0",
       "_view_name": "LayoutView",
       "align_content": null,
       "align_items": null,
       "align_self": null,
       "border": null,
       "bottom": null,
       "display": null,
       "flex": null,
       "flex_flow": null,
       "grid_area": null,
       "grid_auto_columns": null,
       "grid_auto_flow": null,
       "grid_auto_rows": null,
       "grid_column": null,
       "grid_gap": null,
       "grid_row": null,
       "grid_template_areas": null,
       "grid_template_columns": null,
       "grid_template_rows": null,
       "height": null,
       "justify_content": null,
       "justify_items": null,
       "left": null,
       "margin": null,
       "max_height": null,
       "max_width": null,
       "min_height": null,
       "min_width": null,
       "object_fit": null,
       "object_position": null,
       "order": null,
       "overflow": null,
       "overflow_x": null,
       "overflow_y": null,
       "padding": null,
       "right": null,
       "top": null,
       "visibility": null,
       "width": null
      }
     },
     "1f5bd03fef534bf5852817f992247898": {
      "model_module": "@jupyter-widgets/controls",
      "model_module_version": "1.5.0",
      "model_name": "FloatProgressModel",
      "state": {
       "_dom_classes": [],
       "_model_module": "@jupyter-widgets/controls",
       "_model_module_version": "1.5.0",
       "_model_name": "FloatProgressModel",
       "_view_count": null,
       "_view_module": "@jupyter-widgets/controls",
       "_view_module_version": "1.5.0",
       "_view_name": "ProgressView",
       "bar_style": "success",
       "description": "",
       "description_tooltip": null,
       "layout": "IPY_MODEL_288c99db093d48139b7834b822c31951",
       "max": 112.0,
       "min": 0.0,
       "orientation": "horizontal",
       "style": "IPY_MODEL_31992a6467fe472ba3c80933a0ec4c32",
       "value": 112.0
      }
     },
     "20511b6bc6174c9a8a0acfd085721eb3": {
      "model_module": "@jupyter-widgets/base",
      "model_module_version": "1.2.0",
      "model_name": "LayoutModel",
      "state": {
       "_model_module": "@jupyter-widgets/base",
       "_model_module_version": "1.2.0",
       "_model_name": "LayoutModel",
       "_view_count": null,
       "_view_module": "@jupyter-widgets/base",
       "_view_module_version": "1.2.0",
       "_view_name": "LayoutView",
       "align_content": null,
       "align_items": null,
       "align_self": null,
       "border": null,
       "bottom": null,
       "display": null,
       "flex": null,
       "flex_flow": null,
       "grid_area": null,
       "grid_auto_columns": null,
       "grid_auto_flow": null,
       "grid_auto_rows": null,
       "grid_column": null,
       "grid_gap": null,
       "grid_row": null,
       "grid_template_areas": null,
       "grid_template_columns": null,
       "grid_template_rows": null,
       "height": null,
       "justify_content": null,
       "justify_items": null,
       "left": null,
       "margin": null,
       "max_height": null,
       "max_width": null,
       "min_height": null,
       "min_width": null,
       "object_fit": null,
       "object_position": null,
       "order": null,
       "overflow": null,
       "overflow_x": null,
       "overflow_y": null,
       "padding": null,
       "right": null,
       "top": null,
       "visibility": null,
       "width": "20px"
      }
     },
     "2086356e91234bfb85d8db261abfe269": {
      "model_module": "@jupyter-widgets/base",
      "model_module_version": "1.2.0",
      "model_name": "LayoutModel",
      "state": {
       "_model_module": "@jupyter-widgets/base",
       "_model_module_version": "1.2.0",
       "_model_name": "LayoutModel",
       "_view_count": null,
       "_view_module": "@jupyter-widgets/base",
       "_view_module_version": "1.2.0",
       "_view_name": "LayoutView",
       "align_content": null,
       "align_items": null,
       "align_self": null,
       "border": null,
       "bottom": null,
       "display": null,
       "flex": null,
       "flex_flow": null,
       "grid_area": null,
       "grid_auto_columns": null,
       "grid_auto_flow": null,
       "grid_auto_rows": null,
       "grid_column": null,
       "grid_gap": null,
       "grid_row": null,
       "grid_template_areas": null,
       "grid_template_columns": null,
       "grid_template_rows": null,
       "height": null,
       "justify_content": null,
       "justify_items": null,
       "left": null,
       "margin": null,
       "max_height": null,
       "max_width": null,
       "min_height": null,
       "min_width": null,
       "object_fit": null,
       "object_position": null,
       "order": null,
       "overflow": null,
       "overflow_x": null,
       "overflow_y": null,
       "padding": null,
       "right": null,
       "top": null,
       "visibility": null,
       "width": null
      }
     },
     "23960c9c4bfa4727acf3ec779fa3a199": {
      "model_module": "@jupyter-widgets/controls",
      "model_module_version": "1.5.0",
      "model_name": "HTMLModel",
      "state": {
       "_dom_classes": [],
       "_model_module": "@jupyter-widgets/controls",
       "_model_module_version": "1.5.0",
       "_model_name": "HTMLModel",
       "_view_count": null,
       "_view_module": "@jupyter-widgets/controls",
       "_view_module_version": "1.5.0",
       "_view_name": "HTMLView",
       "description": "",
       "description_tooltip": null,
       "layout": "IPY_MODEL_1849800d02f4436e8c500749951ce0a9",
       "placeholder": "​",
       "style": "IPY_MODEL_6fb3e70f3984440489893d2bcf6e5192",
       "value": " 350/350 [00:00&lt;00:00, 30.0kB/s]"
      }
     },
     "288c99db093d48139b7834b822c31951": {
      "model_module": "@jupyter-widgets/base",
      "model_module_version": "1.2.0",
      "model_name": "LayoutModel",
      "state": {
       "_model_module": "@jupyter-widgets/base",
       "_model_module_version": "1.2.0",
       "_model_name": "LayoutModel",
       "_view_count": null,
       "_view_module": "@jupyter-widgets/base",
       "_view_module_version": "1.2.0",
       "_view_name": "LayoutView",
       "align_content": null,
       "align_items": null,
       "align_self": null,
       "border": null,
       "bottom": null,
       "display": null,
       "flex": null,
       "flex_flow": null,
       "grid_area": null,
       "grid_auto_columns": null,
       "grid_auto_flow": null,
       "grid_auto_rows": null,
       "grid_column": null,
       "grid_gap": null,
       "grid_row": null,
       "grid_template_areas": null,
       "grid_template_columns": null,
       "grid_template_rows": null,
       "height": null,
       "justify_content": null,
       "justify_items": null,
       "left": null,
       "margin": null,
       "max_height": null,
       "max_width": null,
       "min_height": null,
       "min_width": null,
       "object_fit": null,
       "object_position": null,
       "order": null,
       "overflow": null,
       "overflow_x": null,
       "overflow_y": null,
       "padding": null,
       "right": null,
       "top": null,
       "visibility": null,
       "width": null
      }
     },
     "2ab8f8418d6d4a1c9156e08da0a65982": {
      "model_module": "@jupyter-widgets/controls",
      "model_module_version": "1.5.0",
      "model_name": "HTMLModel",
      "state": {
       "_dom_classes": [],
       "_model_module": "@jupyter-widgets/controls",
       "_model_module_version": "1.5.0",
       "_model_name": "HTMLModel",
       "_view_count": null,
       "_view_module": "@jupyter-widgets/controls",
       "_view_module_version": "1.5.0",
       "_view_name": "HTMLView",
       "description": "",
       "description_tooltip": null,
       "layout": "IPY_MODEL_8bc023b37e1a4c0192ada3165d49f672",
       "placeholder": "​",
       "style": "IPY_MODEL_77e6ab7ecfeb491b9a3e7098d7903433",
       "value": "special_tokens_map.json: 100%"
      }
     },
     "2ffeb40a38474e27b435dd3f4e787cf2": {
      "model_module": "@jupyter-widgets/controls",
      "model_module_version": "1.5.0",
      "model_name": "FloatProgressModel",
      "state": {
       "_dom_classes": [],
       "_model_module": "@jupyter-widgets/controls",
       "_model_module_version": "1.5.0",
       "_model_name": "FloatProgressModel",
       "_view_count": null,
       "_view_module": "@jupyter-widgets/controls",
       "_view_module_version": "1.5.0",
       "_view_name": "ProgressView",
       "bar_style": "success",
       "description": "",
       "description_tooltip": null,
       "layout": "IPY_MODEL_30811e91ab874e0bb8d97ac8434d6013",
       "max": 1.0,
       "min": 0.0,
       "orientation": "horizontal",
       "style": "IPY_MODEL_b474f557018c475890bd2a3bc9535cf5",
       "value": 1.0
      }
     },
     "30811e91ab874e0bb8d97ac8434d6013": {
      "model_module": "@jupyter-widgets/base",
      "model_module_version": "1.2.0",
      "model_name": "LayoutModel",
      "state": {
       "_model_module": "@jupyter-widgets/base",
       "_model_module_version": "1.2.0",
       "_model_name": "LayoutModel",
       "_view_count": null,
       "_view_module": "@jupyter-widgets/base",
       "_view_module_version": "1.2.0",
       "_view_name": "LayoutView",
       "align_content": null,
       "align_items": null,
       "align_self": null,
       "border": null,
       "bottom": null,
       "display": null,
       "flex": null,
       "flex_flow": null,
       "grid_area": null,
       "grid_auto_columns": null,
       "grid_auto_flow": null,
       "grid_auto_rows": null,
       "grid_column": null,
       "grid_gap": null,
       "grid_row": null,
       "grid_template_areas": null,
       "grid_template_columns": null,
       "grid_template_rows": null,
       "height": null,
       "justify_content": null,
       "justify_items": null,
       "left": null,
       "margin": null,
       "max_height": null,
       "max_width": null,
       "min_height": null,
       "min_width": null,
       "object_fit": null,
       "object_position": null,
       "order": null,
       "overflow": null,
       "overflow_x": null,
       "overflow_y": null,
       "padding": null,
       "right": null,
       "top": null,
       "visibility": null,
       "width": "20px"
      }
     },
     "31992a6467fe472ba3c80933a0ec4c32": {
      "model_module": "@jupyter-widgets/controls",
      "model_module_version": "1.5.0",
      "model_name": "ProgressStyleModel",
      "state": {
       "_model_module": "@jupyter-widgets/controls",
       "_model_module_version": "1.5.0",
       "_model_name": "ProgressStyleModel",
       "_view_count": null,
       "_view_module": "@jupyter-widgets/base",
       "_view_module_version": "1.2.0",
       "_view_name": "StyleView",
       "bar_color": null,
       "description_width": ""
      }
     },
     "37075d6897154b6b9e723f63ad02e201": {
      "model_module": "@jupyter-widgets/controls",
      "model_module_version": "1.5.0",
      "model_name": "DescriptionStyleModel",
      "state": {
       "_model_module": "@jupyter-widgets/controls",
       "_model_module_version": "1.5.0",
       "_model_name": "DescriptionStyleModel",
       "_view_count": null,
       "_view_module": "@jupyter-widgets/base",
       "_view_module_version": "1.2.0",
       "_view_name": "StyleView",
       "description_width": ""
      }
     },
     "494c4186fbb347bcabbfc72f2fbb770a": {
      "model_module": "@jupyter-widgets/controls",
      "model_module_version": "1.5.0",
      "model_name": "DescriptionStyleModel",
      "state": {
       "_model_module": "@jupyter-widgets/controls",
       "_model_module_version": "1.5.0",
       "_model_name": "DescriptionStyleModel",
       "_view_count": null,
       "_view_module": "@jupyter-widgets/base",
       "_view_module_version": "1.2.0",
       "_view_name": "StyleView",
       "description_width": ""
      }
     },
     "4d3decb5e5254327b0e552d424469966": {
      "model_module": "@jupyter-widgets/controls",
      "model_module_version": "1.5.0",
      "model_name": "HTMLModel",
      "state": {
       "_dom_classes": [],
       "_model_module": "@jupyter-widgets/controls",
       "_model_module_version": "1.5.0",
       "_model_name": "HTMLModel",
       "_view_count": null,
       "_view_module": "@jupyter-widgets/controls",
       "_view_module_version": "1.5.0",
       "_view_name": "HTMLView",
       "description": "",
       "description_tooltip": null,
       "layout": "IPY_MODEL_aa17880dbe604392898b142adae1e985",
       "placeholder": "​",
       "style": "IPY_MODEL_494c4186fbb347bcabbfc72f2fbb770a",
       "value": "vocab.txt: "
      }
     },
     "52ec06718f6e4a88b7aa9e8cff01537a": {
      "model_module": "@jupyter-widgets/controls",
      "model_module_version": "1.5.0",
      "model_name": "FloatProgressModel",
      "state": {
       "_dom_classes": [],
       "_model_module": "@jupyter-widgets/controls",
       "_model_module_version": "1.5.0",
       "_model_name": "FloatProgressModel",
       "_view_count": null,
       "_view_module": "@jupyter-widgets/controls",
       "_view_module_version": "1.5.0",
       "_view_name": "ProgressView",
       "bar_style": "success",
       "description": "",
       "description_tooltip": null,
       "layout": "IPY_MODEL_20511b6bc6174c9a8a0acfd085721eb3",
       "max": 1.0,
       "min": 0.0,
       "orientation": "horizontal",
       "style": "IPY_MODEL_5c4b410a6a9b4554916afd343346cb29",
       "value": 1.0
      }
     },
     "5c4b410a6a9b4554916afd343346cb29": {
      "model_module": "@jupyter-widgets/controls",
      "model_module_version": "1.5.0",
      "model_name": "ProgressStyleModel",
      "state": {
       "_model_module": "@jupyter-widgets/controls",
       "_model_module_version": "1.5.0",
       "_model_name": "ProgressStyleModel",
       "_view_count": null,
       "_view_module": "@jupyter-widgets/base",
       "_view_module_version": "1.2.0",
       "_view_name": "StyleView",
       "bar_color": null,
       "description_width": ""
      }
     },
     "5dceef00c9a143c0a6014715d97b5457": {
      "model_module": "@jupyter-widgets/controls",
      "model_module_version": "1.5.0",
      "model_name": "DescriptionStyleModel",
      "state": {
       "_model_module": "@jupyter-widgets/controls",
       "_model_module_version": "1.5.0",
       "_model_name": "DescriptionStyleModel",
       "_view_count": null,
       "_view_module": "@jupyter-widgets/base",
       "_view_module_version": "1.2.0",
       "_view_name": "StyleView",
       "description_width": ""
      }
     },
     "6073a49bf54346ff994c16c44a3475e0": {
      "model_module": "@jupyter-widgets/controls",
      "model_module_version": "1.5.0",
      "model_name": "DescriptionStyleModel",
      "state": {
       "_model_module": "@jupyter-widgets/controls",
       "_model_module_version": "1.5.0",
       "_model_name": "DescriptionStyleModel",
       "_view_count": null,
       "_view_module": "@jupyter-widgets/base",
       "_view_module_version": "1.2.0",
       "_view_name": "StyleView",
       "description_width": ""
      }
     },
     "697157eaccf5454ab2207fad0486055d": {
      "model_module": "@jupyter-widgets/base",
      "model_module_version": "1.2.0",
      "model_name": "LayoutModel",
      "state": {
       "_model_module": "@jupyter-widgets/base",
       "_model_module_version": "1.2.0",
       "_model_name": "LayoutModel",
       "_view_count": null,
       "_view_module": "@jupyter-widgets/base",
       "_view_module_version": "1.2.0",
       "_view_name": "LayoutView",
       "align_content": null,
       "align_items": null,
       "align_self": null,
       "border": null,
       "bottom": null,
       "display": null,
       "flex": null,
       "flex_flow": null,
       "grid_area": null,
       "grid_auto_columns": null,
       "grid_auto_flow": null,
       "grid_auto_rows": null,
       "grid_column": null,
       "grid_gap": null,
       "grid_row": null,
       "grid_template_areas": null,
       "grid_template_columns": null,
       "grid_template_rows": null,
       "height": null,
       "justify_content": null,
       "justify_items": null,
       "left": null,
       "margin": null,
       "max_height": null,
       "max_width": null,
       "min_height": null,
       "min_width": null,
       "object_fit": null,
       "object_position": null,
       "order": null,
       "overflow": null,
       "overflow_x": null,
       "overflow_y": null,
       "padding": null,
       "right": null,
       "top": null,
       "visibility": null,
       "width": null
      }
     },
     "69d7fa2d0dff405f9a6ebec04fa9b10a": {
      "model_module": "@jupyter-widgets/controls",
      "model_module_version": "1.5.0",
      "model_name": "HBoxModel",
      "state": {
       "_dom_classes": [],
       "_model_module": "@jupyter-widgets/controls",
       "_model_module_version": "1.5.0",
       "_model_name": "HBoxModel",
       "_view_count": null,
       "_view_module": "@jupyter-widgets/controls",
       "_view_module_version": "1.5.0",
       "_view_name": "HBoxView",
       "box_style": "",
       "children": [
        "IPY_MODEL_e208048523fb4e21acba372260756025",
        "IPY_MODEL_52ec06718f6e4a88b7aa9e8cff01537a",
        "IPY_MODEL_ef595e8880924e9e8480baf14aaac33e"
       ],
       "layout": "IPY_MODEL_b249e002fbee4f0dbc436fe22c8278fa"
      }
     },
     "6fb3e70f3984440489893d2bcf6e5192": {
      "model_module": "@jupyter-widgets/controls",
      "model_module_version": "1.5.0",
      "model_name": "DescriptionStyleModel",
      "state": {
       "_model_module": "@jupyter-widgets/controls",
       "_model_module_version": "1.5.0",
       "_model_name": "DescriptionStyleModel",
       "_view_count": null,
       "_view_module": "@jupyter-widgets/base",
       "_view_module_version": "1.2.0",
       "_view_name": "StyleView",
       "description_width": ""
      }
     },
     "75cd8f12e697493cbfa3ebd7e7ad3cac": {
      "model_module": "@jupyter-widgets/controls",
      "model_module_version": "1.5.0",
      "model_name": "FloatProgressModel",
      "state": {
       "_dom_classes": [],
       "_model_module": "@jupyter-widgets/controls",
       "_model_module_version": "1.5.0",
       "_model_name": "FloatProgressModel",
       "_view_count": null,
       "_view_module": "@jupyter-widgets/controls",
       "_view_module_version": "1.5.0",
       "_view_name": "ProgressView",
       "bar_style": "success",
       "description": "",
       "description_tooltip": null,
       "layout": "IPY_MODEL_bdc3c2e905fc4264b74e160b2bf4468a",
       "max": 350.0,
       "min": 0.0,
       "orientation": "horizontal",
       "style": "IPY_MODEL_98ed320c1cd94491bdfe922e3596a128",
       "value": 350.0
      }
     },
     "77e6ab7ecfeb491b9a3e7098d7903433": {
      "model_module": "@jupyter-widgets/controls",
      "model_module_version": "1.5.0",
      "model_name": "DescriptionStyleModel",
      "state": {
       "_model_module": "@jupyter-widgets/controls",
       "_model_module_version": "1.5.0",
       "_model_name": "DescriptionStyleModel",
       "_view_count": null,
       "_view_module": "@jupyter-widgets/base",
       "_view_module_version": "1.2.0",
       "_view_name": "StyleView",
       "description_width": ""
      }
     },
     "8059bd03b1f644c08d2a7180ab6020e0": {
      "model_module": "@jupyter-widgets/controls",
      "model_module_version": "1.5.0",
      "model_name": "HTMLModel",
      "state": {
       "_dom_classes": [],
       "_model_module": "@jupyter-widgets/controls",
       "_model_module_version": "1.5.0",
       "_model_name": "HTMLModel",
       "_view_count": null,
       "_view_module": "@jupyter-widgets/controls",
       "_view_module_version": "1.5.0",
       "_view_name": "HTMLView",
       "description": "",
       "description_tooltip": null,
       "layout": "IPY_MODEL_c69a724e8e114e07a9b511211a006c9e",
       "placeholder": "​",
       "style": "IPY_MODEL_5dceef00c9a143c0a6014715d97b5457",
       "value": " 213k/? [00:00&lt;00:00, 4.86MB/s]"
      }
     },
     "8bc023b37e1a4c0192ada3165d49f672": {
      "model_module": "@jupyter-widgets/base",
      "model_module_version": "1.2.0",
      "model_name": "LayoutModel",
      "state": {
       "_model_module": "@jupyter-widgets/base",
       "_model_module_version": "1.2.0",
       "_model_name": "LayoutModel",
       "_view_count": null,
       "_view_module": "@jupyter-widgets/base",
       "_view_module_version": "1.2.0",
       "_view_name": "LayoutView",
       "align_content": null,
       "align_items": null,
       "align_self": null,
       "border": null,
       "bottom": null,
       "display": null,
       "flex": null,
       "flex_flow": null,
       "grid_area": null,
       "grid_auto_columns": null,
       "grid_auto_flow": null,
       "grid_auto_rows": null,
       "grid_column": null,
       "grid_gap": null,
       "grid_row": null,
       "grid_template_areas": null,
       "grid_template_columns": null,
       "grid_template_rows": null,
       "height": null,
       "justify_content": null,
       "justify_items": null,
       "left": null,
       "margin": null,
       "max_height": null,
       "max_width": null,
       "min_height": null,
       "min_width": null,
       "object_fit": null,
       "object_position": null,
       "order": null,
       "overflow": null,
       "overflow_x": null,
       "overflow_y": null,
       "padding": null,
       "right": null,
       "top": null,
       "visibility": null,
       "width": null
      }
     },
     "98ed320c1cd94491bdfe922e3596a128": {
      "model_module": "@jupyter-widgets/controls",
      "model_module_version": "1.5.0",
      "model_name": "ProgressStyleModel",
      "state": {
       "_model_module": "@jupyter-widgets/controls",
       "_model_module_version": "1.5.0",
       "_model_name": "ProgressStyleModel",
       "_view_count": null,
       "_view_module": "@jupyter-widgets/base",
       "_view_module_version": "1.2.0",
       "_view_name": "StyleView",
       "bar_color": null,
       "description_width": ""
      }
     },
     "a274316279f34aeea9493f9ff305ed3d": {
      "model_module": "@jupyter-widgets/controls",
      "model_module_version": "1.5.0",
      "model_name": "DescriptionStyleModel",
      "state": {
       "_model_module": "@jupyter-widgets/controls",
       "_model_module_version": "1.5.0",
       "_model_name": "DescriptionStyleModel",
       "_view_count": null,
       "_view_module": "@jupyter-widgets/base",
       "_view_module_version": "1.2.0",
       "_view_name": "StyleView",
       "description_width": ""
      }
     },
     "aa17880dbe604392898b142adae1e985": {
      "model_module": "@jupyter-widgets/base",
      "model_module_version": "1.2.0",
      "model_name": "LayoutModel",
      "state": {
       "_model_module": "@jupyter-widgets/base",
       "_model_module_version": "1.2.0",
       "_model_name": "LayoutModel",
       "_view_count": null,
       "_view_module": "@jupyter-widgets/base",
       "_view_module_version": "1.2.0",
       "_view_name": "LayoutView",
       "align_content": null,
       "align_items": null,
       "align_self": null,
       "border": null,
       "bottom": null,
       "display": null,
       "flex": null,
       "flex_flow": null,
       "grid_area": null,
       "grid_auto_columns": null,
       "grid_auto_flow": null,
       "grid_auto_rows": null,
       "grid_column": null,
       "grid_gap": null,
       "grid_row": null,
       "grid_template_areas": null,
       "grid_template_columns": null,
       "grid_template_rows": null,
       "height": null,
       "justify_content": null,
       "justify_items": null,
       "left": null,
       "margin": null,
       "max_height": null,
       "max_width": null,
       "min_height": null,
       "min_width": null,
       "object_fit": null,
       "object_position": null,
       "order": null,
       "overflow": null,
       "overflow_x": null,
       "overflow_y": null,
       "padding": null,
       "right": null,
       "top": null,
       "visibility": null,
       "width": null
      }
     },
     "b249e002fbee4f0dbc436fe22c8278fa": {
      "model_module": "@jupyter-widgets/base",
      "model_module_version": "1.2.0",
      "model_name": "LayoutModel",
      "state": {
       "_model_module": "@jupyter-widgets/base",
       "_model_module_version": "1.2.0",
       "_model_name": "LayoutModel",
       "_view_count": null,
       "_view_module": "@jupyter-widgets/base",
       "_view_module_version": "1.2.0",
       "_view_name": "LayoutView",
       "align_content": null,
       "align_items": null,
       "align_self": null,
       "border": null,
       "bottom": null,
       "display": null,
       "flex": null,
       "flex_flow": null,
       "grid_area": null,
       "grid_auto_columns": null,
       "grid_auto_flow": null,
       "grid_auto_rows": null,
       "grid_column": null,
       "grid_gap": null,
       "grid_row": null,
       "grid_template_areas": null,
       "grid_template_columns": null,
       "grid_template_rows": null,
       "height": null,
       "justify_content": null,
       "justify_items": null,
       "left": null,
       "margin": null,
       "max_height": null,
       "max_width": null,
       "min_height": null,
       "min_width": null,
       "object_fit": null,
       "object_position": null,
       "order": null,
       "overflow": null,
       "overflow_x": null,
       "overflow_y": null,
       "padding": null,
       "right": null,
       "top": null,
       "visibility": null,
       "width": null
      }
     },
     "b474f557018c475890bd2a3bc9535cf5": {
      "model_module": "@jupyter-widgets/controls",
      "model_module_version": "1.5.0",
      "model_name": "ProgressStyleModel",
      "state": {
       "_model_module": "@jupyter-widgets/controls",
       "_model_module_version": "1.5.0",
       "_model_name": "ProgressStyleModel",
       "_view_count": null,
       "_view_module": "@jupyter-widgets/base",
       "_view_module_version": "1.2.0",
       "_view_name": "StyleView",
       "bar_color": null,
       "description_width": ""
      }
     },
     "b47c9db7145a477dbe0bb8ea53ccb176": {
      "model_module": "@jupyter-widgets/controls",
      "model_module_version": "1.5.0",
      "model_name": "HTMLModel",
      "state": {
       "_dom_classes": [],
       "_model_module": "@jupyter-widgets/controls",
       "_model_module_version": "1.5.0",
       "_model_name": "HTMLModel",
       "_view_count": null,
       "_view_module": "@jupyter-widgets/controls",
       "_view_module_version": "1.5.0",
       "_view_name": "HTMLView",
       "description": "",
       "description_tooltip": null,
       "layout": "IPY_MODEL_2086356e91234bfb85d8db261abfe269",
       "placeholder": "​",
       "style": "IPY_MODEL_6073a49bf54346ff994c16c44a3475e0",
       "value": "tokenizer_config.json: 100%"
      }
     },
     "b4ba7d976b5b4b829e65d9457f717c00": {
      "model_module": "@jupyter-widgets/controls",
      "model_module_version": "1.5.0",
      "model_name": "HTMLModel",
      "state": {
       "_dom_classes": [],
       "_model_module": "@jupyter-widgets/controls",
       "_model_module_version": "1.5.0",
       "_model_name": "HTMLModel",
       "_view_count": null,
       "_view_module": "@jupyter-widgets/controls",
       "_view_module_version": "1.5.0",
       "_view_name": "HTMLView",
       "description": "",
       "description_tooltip": null,
       "layout": "IPY_MODEL_133ede70d5a649fe8532e122ae628994",
       "placeholder": "​",
       "style": "IPY_MODEL_a274316279f34aeea9493f9ff305ed3d",
       "value": " 112/112 [00:00&lt;00:00, 10.0kB/s]"
      }
     },
     "bdc3c2e905fc4264b74e160b2bf4468a": {
      "model_module": "@jupyter-widgets/base",
      "model_module_version": "1.2.0",
      "model_name": "LayoutModel",
      "state": {
       "_model_module": "@jupyter-widgets/base",
       "_model_module_version": "1.2.0",
       "_model_name": "LayoutModel",
       "_view_count": null,
       "_view_module": "@jupyter-widgets/base",
       "_view_module_version": "1.2.0",
       "_view_name": "LayoutView",
       "align_content": null,
       "align_items": null,
       "align_self": null,
       "border": null,
       "bottom": null,
       "display": null,
       "flex": null,
       "flex_flow": null,
       "grid_area": null,
       "grid_auto_columns": null,
       "grid_auto_flow": null,
       "grid_auto_rows": null,
       "grid_column": null,
       "grid_gap": null,
       "grid_row": null,
       "grid_template_areas": null,
       "grid_template_columns": null,
       "grid_template_rows": null,
       "height": null,
       "justify_content": null,
       "justify_items": null,
       "left": null,
       "margin": null,
       "max_height": null,
       "max_width": null,
       "min_height": null,
       "min_width": null,
       "object_fit": null,
       "object_position": null,
       "order": null,
       "overflow": null,
       "overflow_x": null,
       "overflow_y": null,
       "padding": null,
       "right": null,
       "top": null,
       "visibility": null,
       "width": null
      }
     },
     "bec98439a5734b3a9a073700c69f75a9": {
      "model_module": "@jupyter-widgets/base",
      "model_module_version": "1.2.0",
      "model_name": "LayoutModel",
      "state": {
       "_model_module": "@jupyter-widgets/base",
       "_model_module_version": "1.2.0",
       "_model_name": "LayoutModel",
       "_view_count": null,
       "_view_module": "@jupyter-widgets/base",
       "_view_module_version": "1.2.0",
       "_view_name": "LayoutView",
       "align_content": null,
       "align_items": null,
       "align_self": null,
       "border": null,
       "bottom": null,
       "display": null,
       "flex": null,
       "flex_flow": null,
       "grid_area": null,
       "grid_auto_columns": null,
       "grid_auto_flow": null,
       "grid_auto_rows": null,
       "grid_column": null,
       "grid_gap": null,
       "grid_row": null,
       "grid_template_areas": null,
       "grid_template_columns": null,
       "grid_template_rows": null,
       "height": null,
       "justify_content": null,
       "justify_items": null,
       "left": null,
       "margin": null,
       "max_height": null,
       "max_width": null,
       "min_height": null,
       "min_width": null,
       "object_fit": null,
       "object_position": null,
       "order": null,
       "overflow": null,
       "overflow_x": null,
       "overflow_y": null,
       "padding": null,
       "right": null,
       "top": null,
       "visibility": null,
       "width": null
      }
     },
     "c69a724e8e114e07a9b511211a006c9e": {
      "model_module": "@jupyter-widgets/base",
      "model_module_version": "1.2.0",
      "model_name": "LayoutModel",
      "state": {
       "_model_module": "@jupyter-widgets/base",
       "_model_module_version": "1.2.0",
       "_model_name": "LayoutModel",
       "_view_count": null,
       "_view_module": "@jupyter-widgets/base",
       "_view_module_version": "1.2.0",
       "_view_name": "LayoutView",
       "align_content": null,
       "align_items": null,
       "align_self": null,
       "border": null,
       "bottom": null,
       "display": null,
       "flex": null,
       "flex_flow": null,
       "grid_area": null,
       "grid_auto_columns": null,
       "grid_auto_flow": null,
       "grid_auto_rows": null,
       "grid_column": null,
       "grid_gap": null,
       "grid_row": null,
       "grid_template_areas": null,
       "grid_template_columns": null,
       "grid_template_rows": null,
       "height": null,
       "justify_content": null,
       "justify_items": null,
       "left": null,
       "margin": null,
       "max_height": null,
       "max_width": null,
       "min_height": null,
       "min_width": null,
       "object_fit": null,
       "object_position": null,
       "order": null,
       "overflow": null,
       "overflow_x": null,
       "overflow_y": null,
       "padding": null,
       "right": null,
       "top": null,
       "visibility": null,
       "width": null
      }
     },
     "cc933b7ac8334511bfac9081ebc8a6ab": {
      "model_module": "@jupyter-widgets/base",
      "model_module_version": "1.2.0",
      "model_name": "LayoutModel",
      "state": {
       "_model_module": "@jupyter-widgets/base",
       "_model_module_version": "1.2.0",
       "_model_name": "LayoutModel",
       "_view_count": null,
       "_view_module": "@jupyter-widgets/base",
       "_view_module_version": "1.2.0",
       "_view_name": "LayoutView",
       "align_content": null,
       "align_items": null,
       "align_self": null,
       "border": null,
       "bottom": null,
       "display": null,
       "flex": null,
       "flex_flow": null,
       "grid_area": null,
       "grid_auto_columns": null,
       "grid_auto_flow": null,
       "grid_auto_rows": null,
       "grid_column": null,
       "grid_gap": null,
       "grid_row": null,
       "grid_template_areas": null,
       "grid_template_columns": null,
       "grid_template_rows": null,
       "height": null,
       "justify_content": null,
       "justify_items": null,
       "left": null,
       "margin": null,
       "max_height": null,
       "max_width": null,
       "min_height": null,
       "min_width": null,
       "object_fit": null,
       "object_position": null,
       "order": null,
       "overflow": null,
       "overflow_x": null,
       "overflow_y": null,
       "padding": null,
       "right": null,
       "top": null,
       "visibility": null,
       "width": null
      }
     },
     "cf5d3589ac7c4831a70f07b10b7cc008": {
      "model_module": "@jupyter-widgets/controls",
      "model_module_version": "1.5.0",
      "model_name": "HBoxModel",
      "state": {
       "_dom_classes": [],
       "_model_module": "@jupyter-widgets/controls",
       "_model_module_version": "1.5.0",
       "_model_name": "HBoxModel",
       "_view_count": null,
       "_view_module": "@jupyter-widgets/controls",
       "_view_module_version": "1.5.0",
       "_view_name": "HBoxView",
       "box_style": "",
       "children": [
        "IPY_MODEL_2ab8f8418d6d4a1c9156e08da0a65982",
        "IPY_MODEL_1f5bd03fef534bf5852817f992247898",
        "IPY_MODEL_b4ba7d976b5b4b829e65d9457f717c00"
       ],
       "layout": "IPY_MODEL_cc933b7ac8334511bfac9081ebc8a6ab"
      }
     },
     "e208048523fb4e21acba372260756025": {
      "model_module": "@jupyter-widgets/controls",
      "model_module_version": "1.5.0",
      "model_name": "HTMLModel",
      "state": {
       "_dom_classes": [],
       "_model_module": "@jupyter-widgets/controls",
       "_model_module_version": "1.5.0",
       "_model_name": "HTMLModel",
       "_view_count": null,
       "_view_module": "@jupyter-widgets/controls",
       "_view_module_version": "1.5.0",
       "_view_name": "HTMLView",
       "description": "",
       "description_tooltip": null,
       "layout": "IPY_MODEL_fffcf95a05104de1adad437ea83f1b31",
       "placeholder": "​",
       "style": "IPY_MODEL_e53cd8b11c344362b957a5eac95cb48b",
       "value": "tokenizer.json: "
      }
     },
     "e300c998620d43fa9cd88ea992b77a13": {
      "model_module": "@jupyter-widgets/controls",
      "model_module_version": "1.5.0",
      "model_name": "HBoxModel",
      "state": {
       "_dom_classes": [],
       "_model_module": "@jupyter-widgets/controls",
       "_model_module_version": "1.5.0",
       "_model_name": "HBoxModel",
       "_view_count": null,
       "_view_module": "@jupyter-widgets/controls",
       "_view_module_version": "1.5.0",
       "_view_name": "HBoxView",
       "box_style": "",
       "children": [
        "IPY_MODEL_b47c9db7145a477dbe0bb8ea53ccb176",
        "IPY_MODEL_75cd8f12e697493cbfa3ebd7e7ad3cac",
        "IPY_MODEL_23960c9c4bfa4727acf3ec779fa3a199"
       ],
       "layout": "IPY_MODEL_bec98439a5734b3a9a073700c69f75a9"
      }
     },
     "e53cd8b11c344362b957a5eac95cb48b": {
      "model_module": "@jupyter-widgets/controls",
      "model_module_version": "1.5.0",
      "model_name": "DescriptionStyleModel",
      "state": {
       "_model_module": "@jupyter-widgets/controls",
       "_model_module_version": "1.5.0",
       "_model_name": "DescriptionStyleModel",
       "_view_count": null,
       "_view_module": "@jupyter-widgets/base",
       "_view_module_version": "1.2.0",
       "_view_name": "StyleView",
       "description_width": ""
      }
     },
     "eb2c68a212844171adf9fe36e9d2ae83": {
      "model_module": "@jupyter-widgets/controls",
      "model_module_version": "1.5.0",
      "model_name": "HBoxModel",
      "state": {
       "_dom_classes": [],
       "_model_module": "@jupyter-widgets/controls",
       "_model_module_version": "1.5.0",
       "_model_name": "HBoxModel",
       "_view_count": null,
       "_view_module": "@jupyter-widgets/controls",
       "_view_module_version": "1.5.0",
       "_view_name": "HBoxView",
       "box_style": "",
       "children": [
        "IPY_MODEL_4d3decb5e5254327b0e552d424469966",
        "IPY_MODEL_2ffeb40a38474e27b435dd3f4e787cf2",
        "IPY_MODEL_8059bd03b1f644c08d2a7180ab6020e0"
       ],
       "layout": "IPY_MODEL_697157eaccf5454ab2207fad0486055d"
      }
     },
     "ef595e8880924e9e8480baf14aaac33e": {
      "model_module": "@jupyter-widgets/controls",
      "model_module_version": "1.5.0",
      "model_name": "HTMLModel",
      "state": {
       "_dom_classes": [],
       "_model_module": "@jupyter-widgets/controls",
       "_model_module_version": "1.5.0",
       "_model_name": "HTMLModel",
       "_view_count": null,
       "_view_module": "@jupyter-widgets/controls",
       "_view_module_version": "1.5.0",
       "_view_name": "HTMLView",
       "description": "",
       "description_tooltip": null,
       "layout": "IPY_MODEL_fa82519691f04c3eb3f24f07e5c5ffb1",
       "placeholder": "​",
       "style": "IPY_MODEL_37075d6897154b6b9e723f63ad02e201",
       "value": " 669k/? [00:00&lt;00:00, 33.6MB/s]"
      }
     },
     "fa82519691f04c3eb3f24f07e5c5ffb1": {
      "model_module": "@jupyter-widgets/base",
      "model_module_version": "1.2.0",
      "model_name": "LayoutModel",
      "state": {
       "_model_module": "@jupyter-widgets/base",
       "_model_module_version": "1.2.0",
       "_model_name": "LayoutModel",
       "_view_count": null,
       "_view_module": "@jupyter-widgets/base",
       "_view_module_version": "1.2.0",
       "_view_name": "LayoutView",
       "align_content": null,
       "align_items": null,
       "align_self": null,
       "border": null,
       "bottom": null,
       "display": null,
       "flex": null,
       "flex_flow": null,
       "grid_area": null,
       "grid_auto_columns": null,
       "grid_auto_flow": null,
       "grid_auto_rows": null,
       "grid_column": null,
       "grid_gap": null,
       "grid_row": null,
       "grid_template_areas": null,
       "grid_template_columns": null,
       "grid_template_rows": null,
       "height": null,
       "justify_content": null,
       "justify_items": null,
       "left": null,
       "margin": null,
       "max_height": null,
       "max_width": null,
       "min_height": null,
       "min_width": null,
       "object_fit": null,
       "object_position": null,
       "order": null,
       "overflow": null,
       "overflow_x": null,
       "overflow_y": null,
       "padding": null,
       "right": null,
       "top": null,
       "visibility": null,
       "width": null
      }
     },
     "fffcf95a05104de1adad437ea83f1b31": {
      "model_module": "@jupyter-widgets/base",
      "model_module_version": "1.2.0",
      "model_name": "LayoutModel",
      "state": {
       "_model_module": "@jupyter-widgets/base",
       "_model_module_version": "1.2.0",
       "_model_name": "LayoutModel",
       "_view_count": null,
       "_view_module": "@jupyter-widgets/base",
       "_view_module_version": "1.2.0",
       "_view_name": "LayoutView",
       "align_content": null,
       "align_items": null,
       "align_self": null,
       "border": null,
       "bottom": null,
       "display": null,
       "flex": null,
       "flex_flow": null,
       "grid_area": null,
       "grid_auto_columns": null,
       "grid_auto_flow": null,
       "grid_auto_rows": null,
       "grid_column": null,
       "grid_gap": null,
       "grid_row": null,
       "grid_template_areas": null,
       "grid_template_columns": null,
       "grid_template_rows": null,
       "height": null,
       "justify_content": null,
       "justify_items": null,
       "left": null,
       "margin": null,
       "max_height": null,
       "max_width": null,
       "min_height": null,
       "min_width": null,
       "object_fit": null,
       "object_position": null,
       "order": null,
       "overflow": null,
       "overflow_x": null,
       "overflow_y": null,
       "padding": null,
       "right": null,
       "top": null,
       "visibility": null,
       "width": null
      }
     }
    },
    "version_major": 2,
    "version_minor": 0
   }
  }
 },
 "nbformat": 4,
 "nbformat_minor": 5
}
